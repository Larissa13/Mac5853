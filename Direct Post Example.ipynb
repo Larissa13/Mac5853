{
 "cells": [
  {
   "cell_type": "code",
   "execution_count": 2,
   "metadata": {
    "ExecuteTime": {
     "end_time": "2018-11-05T21:02:21.997005Z",
     "start_time": "2018-11-05T21:02:21.994300Z"
    }
   },
   "outputs": [],
   "source": [
    "import requests\n",
    "import json"
   ]
  },
  {
   "cell_type": "code",
   "execution_count": 20,
   "metadata": {
    "ExecuteTime": {
     "end_time": "2018-11-05T21:35:50.842072Z",
     "start_time": "2018-11-05T21:35:50.838667Z"
    }
   },
   "outputs": [],
   "source": [
    "url = \"http://127.0.0.1:5000/\"\n",
    "callback_port = \"5001\"\n",
    "callback = \"http://127.0.0.1:\" + callback_port\n",
    "\n",
    "req_content = {'sites': [\"http://www.paginalucrativa.com.br/?id=41635\",\n",
    "                         \"http://www.paudefogo.com.br\",\n",
    "                         \"http://www.csvidatv.com.br\",\n",
    "                         \"http://www.morangovip.com.br\"], \"callback\":callback}\n"
   ]
  },
  {
   "cell_type": "code",
   "execution_count": 21,
   "metadata": {
    "ExecuteTime": {
     "end_time": "2018-11-05T21:35:51.078735Z",
     "start_time": "2018-11-05T21:35:51.071415Z"
    }
   },
   "outputs": [],
   "source": [
    "#launch python callback_server.py"
   ]
  },
  {
   "cell_type": "code",
   "execution_count": 25,
   "metadata": {
    "ExecuteTime": {
     "end_time": "2018-11-05T21:40:33.392420Z",
     "start_time": "2018-11-05T21:40:33.344875Z"
    }
   },
   "outputs": [
    {
     "data": {
      "text/plain": [
       "<Response [200]>"
      ]
     },
     "execution_count": 25,
     "metadata": {},
     "output_type": "execute_result"
    }
   ],
   "source": [
    "requests.post(url, json=json.dumps(req_content))"
   ]
  },
  {
   "cell_type": "code",
   "execution_count": null,
   "metadata": {},
   "outputs": [],
   "source": []
  }
 ],
 "metadata": {
  "kernelspec": {
   "display_name": "Python 3",
   "language": "python",
   "name": "python3"
  },
  "language_info": {
   "codemirror_mode": {
    "name": "ipython",
    "version": 3
   },
   "file_extension": ".py",
   "mimetype": "text/x-python",
   "name": "python",
   "nbconvert_exporter": "python",
   "pygments_lexer": "ipython3",
   "version": "3.6.5"
  },
  "toc": {
   "base_numbering": 1,
   "nav_menu": {},
   "number_sections": true,
   "sideBar": true,
   "skip_h1_title": false,
   "title_cell": "Table of Contents",
   "title_sidebar": "Contents",
   "toc_cell": false,
   "toc_position": {},
   "toc_section_display": true,
   "toc_window_display": false
  }
 },
 "nbformat": 4,
 "nbformat_minor": 2
}
