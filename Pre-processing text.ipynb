{
 "cells": [
  {
   "cell_type": "markdown",
   "metadata": {},
   "source": [
    "# Importing"
   ]
  },
  {
   "cell_type": "code",
   "execution_count": 6,
   "metadata": {
    "ExecuteTime": {
     "end_time": "2018-10-23T17:37:14.086014Z",
     "start_time": "2018-10-23T17:37:07.174034Z"
    },
    "collapsed": true
   },
   "outputs": [],
   "source": [
    "from nltk.corpus import stopwords\n",
    "from nltk.stem import RSLPStemmer \n",
    "import spacy\n",
    "import string, re"
   ]
  },
  {
   "cell_type": "markdown",
   "metadata": {},
   "source": [
    "# Pre-processing the text"
   ]
  },
  {
   "cell_type": "code",
   "execution_count": 77,
   "metadata": {
    "ExecuteTime": {
     "end_time": "2018-10-23T20:10:20.257849Z",
     "start_time": "2018-10-23T20:10:20.241689Z"
    }
   },
   "outputs": [],
   "source": [
    "def remove_stopwords(text):\n",
    "    new_text = []\n",
    "    stop_words = set(stopwords.words('portuguese'))\n",
    "    for word in text:\n",
    "        if word not in stop_words:\n",
    "            new_text += [word]\n",
    "    return new_text"
   ]
  },
  {
   "cell_type": "code",
   "execution_count": 28,
   "metadata": {
    "ExecuteTime": {
     "end_time": "2018-10-23T17:44:44.127947Z",
     "start_time": "2018-10-23T17:44:44.112343Z"
    },
    "collapsed": true
   },
   "outputs": [],
   "source": [
    "def remove_punctuation(text):\n",
    "    regex = re.compile('[%s]' % re.escape(string.punctuation))\n",
    "    new_text = [regex.sub('', word) for word in text]\n",
    "    return new_text"
   ]
  },
  {
   "cell_type": "code",
   "execution_count": 9,
   "metadata": {
    "ExecuteTime": {
     "end_time": "2018-10-23T17:37:14.327362Z",
     "start_time": "2018-10-23T17:37:14.184107Z"
    },
    "collapsed": true
   },
   "outputs": [],
   "source": [
    "def stemming(text):\n",
    "    stemmer = RSLPStemmer()\n",
    "    new_text = [stemmer.stem(word) for word in text]\n",
    "    return new_text"
   ]
  },
  {
   "cell_type": "code",
   "execution_count": 10,
   "metadata": {
    "ExecuteTime": {
     "end_time": "2018-10-23T17:37:14.482056Z",
     "start_time": "2018-10-23T17:37:14.332705Z"
    },
    "collapsed": true
   },
   "outputs": [],
   "source": [
    "def lowercase(text):\n",
    "    new_text = [word.lower() for word in text]\n",
    "    return new_text"
   ]
  },
  {
   "cell_type": "code",
   "execution_count": 11,
   "metadata": {
    "ExecuteTime": {
     "end_time": "2018-10-23T17:37:14.558266Z",
     "start_time": "2018-10-23T17:37:14.487121Z"
    },
    "collapsed": true
   },
   "outputs": [],
   "source": [
    "def lemmatization(text):\n",
    "    nlp = spacy.load('pt')\n",
    "    new_text = []\n",
    "    for word in text:\n",
    "        token = nlp(word)[0]\n",
    "        if token.pos_ == 'VERB':\n",
    "            new_text += [token.lemma_ ]\n",
    "        else:\n",
    "            new_text +=[word]\n",
    "    return new_text"
   ]
  },
  {
   "cell_type": "code",
   "execution_count": 64,
   "metadata": {
    "ExecuteTime": {
     "end_time": "2018-10-23T19:58:23.391503Z",
     "start_time": "2018-10-23T19:58:23.380124Z"
    },
    "collapsed": true
   },
   "outputs": [],
   "source": [
    " def preprocess(text):\n",
    "    assert type(text) == list, \"input must be a list\"\n",
    "    text_lower = lowercase(text)\n",
    "    text_punc = remove_ponctuation(text_lower)\n",
    "    text_stop = remove_stopwords(text_punc)\n",
    "    text_stem = stemming(text_stop)\n",
    "    text_lemma  = lemmatization(text_stem)\n",
    "    return text_lemma"
   ]
  },
  {
   "cell_type": "code",
   "execution_count": 13,
   "metadata": {
    "ExecuteTime": {
     "end_time": "2018-10-23T17:37:14.826471Z",
     "start_time": "2018-10-23T17:37:14.702983Z"
    },
    "collapsed": true
   },
   "outputs": [],
   "source": [
    "text = [\"Eu,\", \"qUeRo,\", \"uM:\", \"chocoLATe?\", \"coM/\", \"Caramelo.\"]"
   ]
  },
  {
   "cell_type": "code",
   "execution_count": 78,
   "metadata": {
    "ExecuteTime": {
     "end_time": "2018-10-23T20:10:24.049228Z",
     "start_time": "2018-10-23T20:10:23.993867Z"
    }
   },
   "outputs": [
    {
     "name": "stdout",
     "output_type": "stream",
     "text": [
      "['Eu,', 'qUeRo,', 'uM:', 'chocoLATe?', 'coM/', 'Caramelo.']\n"
     ]
    }
   ],
   "source": [
    "print(remove_stopwords(text))"
   ]
  },
  {
   "cell_type": "code",
   "execution_count": 31,
   "metadata": {
    "ExecuteTime": {
     "end_time": "2018-10-23T17:46:14.512909Z",
     "start_time": "2018-10-23T17:46:14.502370Z"
    }
   },
   "outputs": [
    {
     "name": "stdout",
     "output_type": "stream",
     "text": [
      "['Eu', 'qUeRo', 'uM', 'chocoLATe', 'coM', 'Caramelo']\n"
     ]
    }
   ],
   "source": [
    "no_punc = remove_punctuation(text)\n",
    "print(no_punc)"
   ]
  },
  {
   "cell_type": "code",
   "execution_count": 14,
   "metadata": {
    "ExecuteTime": {
     "end_time": "2018-10-21T22:03:57.540720Z",
     "start_time": "2018-10-21T22:03:57.328302Z"
    }
   },
   "outputs": [
    {
     "data": {
      "text/plain": [
       "['eu', 'quer', 'um', 'chocolat', 'com', 'caramel']"
      ]
     },
     "execution_count": 14,
     "metadata": {},
     "output_type": "execute_result"
    }
   ],
   "source": [
    "stemming(no_punc)"
   ]
  },
  {
   "cell_type": "code",
   "execution_count": 15,
   "metadata": {
    "ExecuteTime": {
     "end_time": "2018-10-21T22:03:57.553367Z",
     "start_time": "2018-10-21T22:03:57.544659Z"
    }
   },
   "outputs": [
    {
     "data": {
      "text/plain": [
       "['eu,', 'quero,', 'um:', 'chocolate?', 'com/', 'caramelo.']"
      ]
     },
     "execution_count": 15,
     "metadata": {},
     "output_type": "execute_result"
    }
   ],
   "source": [
    "lowercase(text)"
   ]
  },
  {
   "cell_type": "code",
   "execution_count": 16,
   "metadata": {
    "ExecuteTime": {
     "end_time": "2018-10-21T22:04:00.481318Z",
     "start_time": "2018-10-21T22:03:57.684099Z"
    }
   },
   "outputs": [
    {
     "data": {
      "text/plain": [
       "['Eu,', 'qUeRo', 'uM:', 'chocoLATe?', 'coM/', 'Caramelo.']"
      ]
     },
     "execution_count": 16,
     "metadata": {},
     "output_type": "execute_result"
    }
   ],
   "source": [
    "lemmatization(text)"
   ]
  },
  {
   "cell_type": "code",
   "execution_count": 17,
   "metadata": {
    "ExecuteTime": {
     "end_time": "2018-10-21T22:04:00.953354Z",
     "start_time": "2018-10-21T22:04:00.485566Z"
    }
   },
   "outputs": [
    {
     "name": "stdout",
     "output_type": "stream",
     "text": [
      "['querer', 'chocolat', 'caramel']\n"
     ]
    }
   ],
   "source": [
    "print(preprocess(text))"
   ]
  },
  {
   "cell_type": "code",
   "execution_count": 73,
   "metadata": {
    "ExecuteTime": {
     "end_time": "2018-10-23T20:08:12.872183Z",
     "start_time": "2018-10-23T20:08:12.850426Z"
    },
    "collapsed": true
   },
   "outputs": [],
   "source": [
    "class Parser:\n",
    "    def extract(url):\n",
    "        pass\n",
    "    \n",
    "    def parse(tags_dict):\n",
    "        pass\n",
    "    \n",
    "    def get_wdlist(url):\n",
    "        pass\n",
    "        \n",
    "    def preprocess(text):\n",
    "        assert type(text) == list, \"input must be a list\"\n",
    "        text_lower = lowercase(text)\n",
    "        text_punc = remove_ponctuation(text_lower)\n",
    "        text_stop = remove_stopwords(text_punc)\n",
    "        text_stem = stemming(text_stop)\n",
    "        text_lemma  = lemmatization(text_stem)\n",
    "        return text_lemma              "
   ]
  },
  {
   "cell_type": "code",
   "execution_count": 1,
   "metadata": {
    "ExecuteTime": {
     "end_time": "2018-10-23T17:32:03.279005Z",
     "start_time": "2018-10-23T17:32:03.255327Z"
    },
    "collapsed": true
   },
   "outputs": [],
   "source": [
    "import unittest as ut"
   ]
  },
  {
   "cell_type": "code",
   "execution_count": 80,
   "metadata": {
    "ExecuteTime": {
     "end_time": "2018-10-23T20:11:01.150383Z",
     "start_time": "2018-10-23T20:11:00.130974Z"
    }
   },
   "outputs": [
    {
     "name": "stderr",
     "output_type": "stream",
     "text": [
      "/home/larissa/anaconda3/lib/python3.6/site-packages/msgpack_numpy.py:184: PendingDeprecationWarning: encoding is deprecated, Use raw=False instead.\n",
      "  return _unpackb(packed, **kwargs)\n",
      "../home/larissa/anaconda3/lib/python3.6/site-packages/nltk/corpus/reader/wordlist.py:28: ResourceWarning: unclosed file <_io.BufferedReader name='/home/larissa/nltk_data/corpora/stopwords/portuguese'>\n",
      "  return concat([self.open(f).read() for f in fileids])\n",
      ".....\n",
      "----------------------------------------------------------------------\n",
      "Ran 7 tests in 0.978s\n",
      "\n",
      "OK\n"
     ]
    }
   ],
   "source": [
    "class TestPreProcessTextMethods(ut.TestCase):\n",
    "    \n",
    "    def test_remove_stopwords(self):\n",
    "        self.assertEqual(remove_stopwords(['este', 'é',  'um',  'teste']), ['é', 'teste'])\n",
    "        self.assertEqual(remove_stopwords(['Este', 'é', 'UM', 'teste.']), ['Este', 'é', 'UM', 'teste.'])\n",
    "    \n",
    "    def test_remove_punctuation(self):\n",
    "        self.assertEqual(remove_punctuation(['Este', 'é', 'UM', 'teste.']), ['Este', 'é', 'UM', 'teste'])\n",
    "    \n",
    "    def test_stemming(self):\n",
    "        self.assertEqual(stemming(['sabia', 'pedraria', 'casarão', 'ferreiro']), ['sab', 'pedr', 'cas', 'ferr'])\n",
    "    \n",
    "    def test_lowercase(self):\n",
    "        self.assertEqual(lowercase(['TEmoS', 'QUE', 'estAr', 'minÚscULas']), ['temos', 'que', 'estar', 'minúsculas'])\n",
    "        \n",
    "    def test_lemmatization(self):\n",
    "        self.assertEqual(lemmatization(['é', 'quero', 'sei', 'vemos', 'lê']), ['ser', 'querer', 'saber', 'ver', 'ler'])\n",
    "    \n",
    "    def test_preprocess(self):\n",
    "        self.assertEqual(preprocess(['Este', 'é', 'uM.', 'tesTe?', 'das', 'FUNÇÔES', 'ACima,', 'em', 'conjunto%']), \n",
    "                         ['ser', 'test', 'funçô', 'acim', 'conjunt'])\n",
    "        \n",
    "    def test_preprocess_notlist(self):\n",
    "        with self.assertRaises(Exception) as context:\n",
    "            preprocess(\"este é um teste\") \n",
    "        self.assertTrue('input must be a list' in str(context.exception))\n",
    "       \n",
    "    \n",
    "# if __name__ == '__main__':\n",
    "#     ut.main() only for script\n",
    "\n",
    "if __name__ == '__main__':\n",
    "    ut.main(argv=['first-arg-is-ignored'], exit=False)\n",
    "    \n",
    "    "
   ]
  },
  {
   "cell_type": "code",
   "execution_count": 20,
   "metadata": {
    "ExecuteTime": {
     "end_time": "2018-10-23T17:38:38.900063Z",
     "start_time": "2018-10-23T17:38:38.881842Z"
    }
   },
   "outputs": [
    {
     "data": {
      "text/plain": [
       "['é', 'teste']"
      ]
     },
     "execution_count": 20,
     "metadata": {},
     "output_type": "execute_result"
    }
   ],
   "source": [
    "remove_stopwords(['este', 'é', 'um', 'teste'])"
   ]
  },
  {
   "cell_type": "code",
   "execution_count": 18,
   "metadata": {
    "ExecuteTime": {
     "end_time": "2018-10-23T17:38:21.243901Z",
     "start_time": "2018-10-23T17:38:21.233072Z"
    }
   },
   "outputs": [
    {
     "name": "stdout",
     "output_type": "stream",
     "text": [
      "False\n"
     ]
    }
   ],
   "source": [
    "print('Este' in stopwords.words('portuguese'))"
   ]
  },
  {
   "cell_type": "code",
   "execution_count": null,
   "metadata": {
    "collapsed": true
   },
   "outputs": [],
   "source": []
  }
 ],
 "metadata": {
  "kernelspec": {
   "display_name": "Python [default]",
   "language": "python",
   "name": "python3"
  },
  "language_info": {
   "codemirror_mode": {
    "name": "ipython",
    "version": 3
   },
   "file_extension": ".py",
   "mimetype": "text/x-python",
   "name": "python",
   "nbconvert_exporter": "python",
   "pygments_lexer": "ipython3",
   "version": "3.6.6"
  },
  "toc": {
   "base_numbering": 1,
   "nav_menu": {},
   "number_sections": true,
   "sideBar": true,
   "skip_h1_title": false,
   "title_cell": "Table of Contents",
   "title_sidebar": "Contents",
   "toc_cell": false,
   "toc_position": {},
   "toc_section_display": true,
   "toc_window_display": false
  }
 },
 "nbformat": 4,
 "nbformat_minor": 2
}
