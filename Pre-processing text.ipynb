{
 "cells": [
  {
   "cell_type": "markdown",
   "metadata": {},
   "source": [
    "# Importing"
   ]
  },
  {
   "cell_type": "code",
   "execution_count": 1,
   "metadata": {
    "ExecuteTime": {
     "end_time": "2018-10-21T22:03:39.451244Z",
     "start_time": "2018-10-21T22:03:32.435210Z"
    },
    "collapsed": true
   },
   "outputs": [],
   "source": [
    "from nltk.corpus import stopwords\n",
    "from nltk.stem import RSLPStemmer \n",
    "import spacy\n",
    "import string, re"
   ]
  },
  {
   "cell_type": "markdown",
   "metadata": {},
   "source": [
    "# Pre-processing the text"
   ]
  },
  {
   "cell_type": "code",
   "execution_count": 2,
   "metadata": {
    "ExecuteTime": {
     "end_time": "2018-10-21T22:03:40.510779Z",
     "start_time": "2018-10-21T22:03:40.505647Z"
    },
    "collapsed": true
   },
   "outputs": [],
   "source": [
    "def remove_stopwords(text):\n",
    "    new_text = []\n",
    "    for word in text:\n",
    "        if word not in stopwords.words('portuguese'):\n",
    "            new_text += [word]\n",
    "    return new_text"
   ]
  },
  {
   "cell_type": "code",
   "execution_count": 5,
   "metadata": {
    "ExecuteTime": {
     "end_time": "2018-10-21T22:03:46.331826Z",
     "start_time": "2018-10-21T22:03:46.327213Z"
    },
    "collapsed": true
   },
   "outputs": [],
   "source": [
    "def remove_ponctuation(text):\n",
    "    regex = re.compile('[%s]' % re.escape(string.punctuation))\n",
    "    new_text = [regex.sub('', word) for word in text]\n",
    "    return new_text"
   ]
  },
  {
   "cell_type": "code",
   "execution_count": 7,
   "metadata": {
    "ExecuteTime": {
     "end_time": "2018-10-21T22:03:53.444013Z",
     "start_time": "2018-10-21T22:03:53.432257Z"
    },
    "collapsed": true
   },
   "outputs": [],
   "source": [
    "def stemming(text):\n",
    "    stemmer = RSLPStemmer()\n",
    "    new_text = [stemmer.stem(word) for word in text]\n",
    "    return new_text"
   ]
  },
  {
   "cell_type": "code",
   "execution_count": 8,
   "metadata": {
    "ExecuteTime": {
     "end_time": "2018-10-21T22:03:54.275641Z",
     "start_time": "2018-10-21T22:03:54.268774Z"
    },
    "collapsed": true
   },
   "outputs": [],
   "source": [
    "def lowercase(text):\n",
    "    new_text = [word.lower() for word in text]\n",
    "    return new_text"
   ]
  },
  {
   "cell_type": "code",
   "execution_count": 9,
   "metadata": {
    "ExecuteTime": {
     "end_time": "2018-10-21T22:03:54.576655Z",
     "start_time": "2018-10-21T22:03:54.562395Z"
    },
    "collapsed": true
   },
   "outputs": [],
   "source": [
    "def lemmatization(text):\n",
    "    nlp = spacy.load('pt')\n",
    "    new_text = []\n",
    "    for word in text:\n",
    "        token = nlp(word)[0]\n",
    "        if token.pos_ == 'VERB':\n",
    "            new_text += [token.lemma_ ]\n",
    "        else:\n",
    "            new_text +=[word]\n",
    "    return new_text"
   ]
  },
  {
   "cell_type": "code",
   "execution_count": 10,
   "metadata": {
    "ExecuteTime": {
     "end_time": "2018-10-21T22:03:54.866043Z",
     "start_time": "2018-10-21T22:03:54.852388Z"
    },
    "collapsed": true
   },
   "outputs": [],
   "source": [
    "def preprocess(text):\n",
    "    text_punc = remove_ponctuation(text)\n",
    "    text_lower = lowercase(text_punc)\n",
    "    text_stem = stemming(text_lower)\n",
    "    text_lemma  = lemmatization(text_stem)\n",
    "    text_stop = remove_stopwords(text_lemma)\n",
    "    return text_stop"
   ]
  },
  {
   "cell_type": "code",
   "execution_count": 11,
   "metadata": {
    "ExecuteTime": {
     "end_time": "2018-10-21T22:03:55.625543Z",
     "start_time": "2018-10-21T22:03:55.616097Z"
    },
    "collapsed": true
   },
   "outputs": [],
   "source": [
    "text = [\"Eu,\", \"qUeRo,\", \"uM:\", \"chocoLATe?\", \"coM/\", \"Caramelo.\"]"
   ]
  },
  {
   "cell_type": "code",
   "execution_count": 12,
   "metadata": {
    "ExecuteTime": {
     "end_time": "2018-10-21T22:03:56.901384Z",
     "start_time": "2018-10-21T22:03:56.851961Z"
    }
   },
   "outputs": [
    {
     "name": "stdout",
     "output_type": "stream",
     "text": [
      "['Eu,', 'qUeRo,', 'uM:', 'chocoLATe?', 'coM/', 'Caramelo.']\n"
     ]
    }
   ],
   "source": [
    "print(remove_stopwords(text))"
   ]
  },
  {
   "cell_type": "code",
   "execution_count": 13,
   "metadata": {
    "ExecuteTime": {
     "end_time": "2018-10-21T22:03:57.118069Z",
     "start_time": "2018-10-21T22:03:57.109989Z"
    },
    "collapsed": true
   },
   "outputs": [],
   "source": [
    "no_punc = remove_ponctuation(text)"
   ]
  },
  {
   "cell_type": "code",
   "execution_count": 14,
   "metadata": {
    "ExecuteTime": {
     "end_time": "2018-10-21T22:03:57.540720Z",
     "start_time": "2018-10-21T22:03:57.328302Z"
    }
   },
   "outputs": [
    {
     "data": {
      "text/plain": [
       "['eu', 'quer', 'um', 'chocolat', 'com', 'caramel']"
      ]
     },
     "execution_count": 14,
     "metadata": {},
     "output_type": "execute_result"
    }
   ],
   "source": [
    "stemming(no_punc)"
   ]
  },
  {
   "cell_type": "code",
   "execution_count": 15,
   "metadata": {
    "ExecuteTime": {
     "end_time": "2018-10-21T22:03:57.553367Z",
     "start_time": "2018-10-21T22:03:57.544659Z"
    }
   },
   "outputs": [
    {
     "data": {
      "text/plain": [
       "['eu,', 'quero,', 'um:', 'chocolate?', 'com/', 'caramelo.']"
      ]
     },
     "execution_count": 15,
     "metadata": {},
     "output_type": "execute_result"
    }
   ],
   "source": [
    "lowercase(text)"
   ]
  },
  {
   "cell_type": "code",
   "execution_count": 16,
   "metadata": {
    "ExecuteTime": {
     "end_time": "2018-10-21T22:04:00.481318Z",
     "start_time": "2018-10-21T22:03:57.684099Z"
    }
   },
   "outputs": [
    {
     "data": {
      "text/plain": [
       "['Eu,', 'qUeRo', 'uM:', 'chocoLATe?', 'coM/', 'Caramelo.']"
      ]
     },
     "execution_count": 16,
     "metadata": {},
     "output_type": "execute_result"
    }
   ],
   "source": [
    "lemmatization(text)"
   ]
  },
  {
   "cell_type": "code",
   "execution_count": 17,
   "metadata": {
    "ExecuteTime": {
     "end_time": "2018-10-21T22:04:00.953354Z",
     "start_time": "2018-10-21T22:04:00.485566Z"
    }
   },
   "outputs": [
    {
     "name": "stdout",
     "output_type": "stream",
     "text": [
      "['querer', 'chocolat', 'caramel']\n"
     ]
    }
   ],
   "source": [
    "print(preprocess(text))"
   ]
  },
  {
   "cell_type": "code",
   "execution_count": 21,
   "metadata": {
    "ExecuteTime": {
     "end_time": "2018-10-21T22:16:58.806495Z",
     "start_time": "2018-10-21T22:16:58.792597Z"
    }
   },
   "outputs": [],
   "source": [
    "class Parser:\n",
    "    def extract(url):\n",
    "        pass\n",
    "    \n",
    "    def parse(tags_dict):\n",
    "        pass\n",
    "    \n",
    "    def get_wdlist(url):\n",
    "        pass\n",
    "        \n",
    "    def preprocess(text):\n",
    "        text_punc = remove_ponctuation(text)\n",
    "        text_lower = lowercase(text_punc)\n",
    "        text_stem = stemming(text_lower)\n",
    "        text_lemma  = lemmatization(text_stem)\n",
    "        text_stop = remove_stopwords(text_lemma)\n",
    "        return text_stop\n",
    "    \n",
    "    "
   ]
  }
 ],
 "metadata": {
  "kernelspec": {
   "display_name": "Python [default]",
   "language": "python",
   "name": "python3"
  },
  "language_info": {
   "codemirror_mode": {
    "name": "ipython",
    "version": 3
   },
   "file_extension": ".py",
   "mimetype": "text/x-python",
   "name": "python",
   "nbconvert_exporter": "python",
   "pygments_lexer": "ipython3",
   "version": "3.6.6"
  },
  "toc": {
   "base_numbering": 1,
   "nav_menu": {},
   "number_sections": true,
   "sideBar": true,
   "skip_h1_title": false,
   "title_cell": "Table of Contents",
   "title_sidebar": "Contents",
   "toc_cell": false,
   "toc_position": {},
   "toc_section_display": true,
   "toc_window_display": false
  }
 },
 "nbformat": 4,
 "nbformat_minor": 2
}
