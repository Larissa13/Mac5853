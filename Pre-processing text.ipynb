{
 "cells": [
  {
   "cell_type": "markdown",
   "metadata": {},
   "source": [
    "# Importing"
   ]
  },
  {
   "cell_type": "code",
   "execution_count": 81,
   "metadata": {
    "ExecuteTime": {
     "end_time": "2018-10-16T22:14:44.433045Z",
     "start_time": "2018-10-16T22:14:44.427450Z"
    }
   },
   "outputs": [],
   "source": [
    "from nltk.corpus import stopwords\n",
    "from nltk.stem import RSLPStemmer \n",
    "import spacy\n",
    "import string, re"
   ]
  },
  {
   "cell_type": "code",
   "execution_count": null,
   "metadata": {
    "ExecuteTime": {
     "end_time": "2018-10-16T21:59:35.885727Z",
     "start_time": "2018-10-16T21:59:35.875579Z"
    }
   },
   "outputs": [],
   "source": []
  },
  {
   "cell_type": "markdown",
   "metadata": {},
   "source": [
    "# Pre-processing the text"
   ]
  },
  {
   "cell_type": "code",
   "execution_count": 82,
   "metadata": {
    "ExecuteTime": {
     "end_time": "2018-10-16T22:14:45.459076Z",
     "start_time": "2018-10-16T22:14:45.441595Z"
    },
    "collapsed": true
   },
   "outputs": [],
   "source": [
    "def remove_stopwords(text):\n",
    "    new_text = []\n",
    "    for word in text:\n",
    "        if word not in stopwords.words('portuguese'):\n",
    "            new_text += [word]\n",
    "    return new_text"
   ]
  },
  {
   "cell_type": "code",
   "execution_count": 83,
   "metadata": {
    "ExecuteTime": {
     "end_time": "2018-10-16T22:14:45.632969Z",
     "start_time": "2018-10-16T22:14:45.625588Z"
    },
    "collapsed": true
   },
   "outputs": [],
   "source": [
    "def remove_ponctuation(text):\n",
    "    regex = re.compile('[%s]' % re.escape(string.punctuation))\n",
    "    new_text = [regex.sub('', word) for word in text]\n",
    "    return new_text"
   ]
  },
  {
   "cell_type": "code",
   "execution_count": 84,
   "metadata": {
    "ExecuteTime": {
     "end_time": "2018-10-16T22:14:45.831140Z",
     "start_time": "2018-10-16T22:14:45.816619Z"
    },
    "collapsed": true
   },
   "outputs": [],
   "source": [
    "def stemming(text):\n",
    "    stemmer = RSLPStemmer()\n",
    "    new_text = [stemmer.stem(word) for word in text]\n",
    "    return new_text"
   ]
  },
  {
   "cell_type": "code",
   "execution_count": 85,
   "metadata": {
    "ExecuteTime": {
     "end_time": "2018-10-16T22:14:45.997200Z",
     "start_time": "2018-10-16T22:14:45.988520Z"
    },
    "collapsed": true
   },
   "outputs": [],
   "source": [
    "def lowercase(text):\n",
    "    new_text = [word.lower() for word in text]\n",
    "    return new_text"
   ]
  },
  {
   "cell_type": "code",
   "execution_count": 86,
   "metadata": {
    "ExecuteTime": {
     "end_time": "2018-10-16T22:14:46.182133Z",
     "start_time": "2018-10-16T22:14:46.167605Z"
    }
   },
   "outputs": [],
   "source": [
    "def lemmatization(text):\n",
    "    nlp = spacy.load('pt')\n",
    "    new_text = []\n",
    "    for word in text:\n",
    "        token = nlp(word)[0]\n",
    "        if token.pos_ == 'VERB':\n",
    "            new_text += [token.lemma_ ]\n",
    "        else:\n",
    "            new_text +=[word]\n",
    "    return new_text"
   ]
  },
  {
   "cell_type": "code",
   "execution_count": 95,
   "metadata": {
    "ExecuteTime": {
     "end_time": "2018-10-16T22:14:59.861004Z",
     "start_time": "2018-10-16T22:14:59.851098Z"
    },
    "collapsed": true
   },
   "outputs": [],
   "source": [
    "def preprocess(text):\n",
    "    text_punc = remove_ponctuation(text)\n",
    "    text_lower = lowercase(text_punc)\n",
    "    text_stem = stemming(text_lower)\n",
    "    text_lemma  = lemmatization(text_stem)\n",
    "    text_stop = remove_stopwords(text_lemma)\n",
    "    return text_stop"
   ]
  },
  {
   "cell_type": "code",
   "execution_count": 96,
   "metadata": {
    "ExecuteTime": {
     "end_time": "2018-10-16T22:15:00.103759Z",
     "start_time": "2018-10-16T22:15:00.099627Z"
    },
    "collapsed": true
   },
   "outputs": [],
   "source": [
    "text = [\"Eu,\", \"qUeRo,\", \"uM:\", \"chocoLATe?\", \"coM/\", \"Caramelo.\"]"
   ]
  },
  {
   "cell_type": "code",
   "execution_count": null,
   "metadata": {
    "collapsed": true
   },
   "outputs": [],
   "source": []
  },
  {
   "cell_type": "code",
   "execution_count": 97,
   "metadata": {
    "ExecuteTime": {
     "end_time": "2018-10-16T22:15:00.509840Z",
     "start_time": "2018-10-16T22:15:00.479617Z"
    }
   },
   "outputs": [
    {
     "name": "stdout",
     "output_type": "stream",
     "text": [
      "['Eu,', 'qUeRo,', 'uM:', 'chocoLATe?', 'coM/', 'Caramelo.']\n"
     ]
    }
   ],
   "source": [
    "print(remove_stopwords(text))"
   ]
  },
  {
   "cell_type": "code",
   "execution_count": 98,
   "metadata": {
    "ExecuteTime": {
     "end_time": "2018-10-16T22:15:00.613706Z",
     "start_time": "2018-10-16T22:15:00.611120Z"
    },
    "collapsed": true
   },
   "outputs": [],
   "source": [
    "no_punc = remove_ponctuation(text)"
   ]
  },
  {
   "cell_type": "code",
   "execution_count": 99,
   "metadata": {
    "ExecuteTime": {
     "end_time": "2018-10-16T22:15:00.846425Z",
     "start_time": "2018-10-16T22:15:00.831073Z"
    }
   },
   "outputs": [
    {
     "data": {
      "text/plain": [
       "['eu', 'quer', 'um', 'chocolat', 'com', 'caramel']"
      ]
     },
     "execution_count": 99,
     "metadata": {},
     "output_type": "execute_result"
    }
   ],
   "source": [
    "stemming(no_punc)"
   ]
  },
  {
   "cell_type": "code",
   "execution_count": 100,
   "metadata": {
    "ExecuteTime": {
     "end_time": "2018-10-16T22:15:00.981876Z",
     "start_time": "2018-10-16T22:15:00.977628Z"
    }
   },
   "outputs": [
    {
     "data": {
      "text/plain": [
       "['eu,', 'quero,', 'um:', 'chocolate?', 'com/', 'caramelo.']"
      ]
     },
     "execution_count": 100,
     "metadata": {},
     "output_type": "execute_result"
    }
   ],
   "source": [
    "lowercase(text)"
   ]
  },
  {
   "cell_type": "code",
   "execution_count": 101,
   "metadata": {
    "ExecuteTime": {
     "end_time": "2018-10-16T22:15:02.058601Z",
     "start_time": "2018-10-16T22:15:01.453983Z"
    }
   },
   "outputs": [
    {
     "data": {
      "text/plain": [
       "['Eu,', 'qUeRo', 'uM:', 'chocoLATe?', 'coM/', 'Caramelo.']"
      ]
     },
     "execution_count": 101,
     "metadata": {},
     "output_type": "execute_result"
    }
   ],
   "source": [
    "lemmatization(text)"
   ]
  },
  {
   "cell_type": "code",
   "execution_count": 102,
   "metadata": {
    "ExecuteTime": {
     "end_time": "2018-10-16T22:15:02.611029Z",
     "start_time": "2018-10-16T22:15:02.059916Z"
    }
   },
   "outputs": [
    {
     "name": "stdout",
     "output_type": "stream",
     "text": [
      "['querer', 'chocolat', 'caramel']\n"
     ]
    }
   ],
   "source": [
    "print(preprocess(text))"
   ]
  },
  {
   "cell_type": "code",
   "execution_count": null,
   "metadata": {
    "collapsed": true
   },
   "outputs": [],
   "source": []
  }
 ],
 "metadata": {
  "kernelspec": {
   "display_name": "Python 3",
   "language": "python",
   "name": "python3"
  }
 },
 "nbformat": 4,
 "nbformat_minor": 2
}
