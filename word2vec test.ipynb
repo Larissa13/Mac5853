{
 "cells": [
  {
   "cell_type": "markdown",
   "metadata": {},
   "source": [
    "# Imports"
   ]
  },
  {
   "cell_type": "code",
   "execution_count": 1,
   "metadata": {
    "ExecuteTime": {
     "end_time": "2018-10-17T00:41:46.238470Z",
     "start_time": "2018-10-17T00:41:39.808494Z"
    },
    "collapsed": true
   },
   "outputs": [],
   "source": [
    "from gensim.models import KeyedVectors"
   ]
  },
  {
   "cell_type": "code",
   "execution_count": 2,
   "metadata": {
    "ExecuteTime": {
     "end_time": "2018-10-17T00:45:14.130149Z",
     "start_time": "2018-10-17T00:41:46.240631Z"
    },
    "collapsed": true
   },
   "outputs": [],
   "source": [
    "pt_model = KeyedVectors.load_word2vec_format('wiki.pt/wiki.pt.vec')"
   ]
  },
  {
   "cell_type": "code",
   "execution_count": 3,
   "metadata": {
    "ExecuteTime": {
     "end_time": "2018-10-17T00:45:14.269251Z",
     "start_time": "2018-10-17T00:45:14.131983Z"
    },
    "collapsed": true
   },
   "outputs": [],
   "source": [
    "words = []\n",
    "for word in pt_model.vocab:\n",
    "    words.append(word)"
   ]
  },
  {
   "cell_type": "code",
   "execution_count": 4,
   "metadata": {
    "ExecuteTime": {
     "end_time": "2018-10-17T00:45:14.375354Z",
     "start_time": "2018-10-17T00:45:14.272216Z"
    }
   },
   "outputs": [
    {
     "name": "stdout",
     "output_type": "stream",
     "text": [
      "Number of Tokens: 592108\n"
     ]
    }
   ],
   "source": [
    "print(\"Number of Tokens: {}\".format(len(words)))"
   ]
  },
  {
   "cell_type": "code",
   "execution_count": 5,
   "metadata": {
    "ExecuteTime": {
     "end_time": "2018-10-17T00:45:20.876341Z",
     "start_time": "2018-10-17T00:45:20.869345Z"
    }
   },
   "outputs": [
    {
     "name": "stdout",
     "output_type": "stream",
     "text": [
      "Dimension of a word vector: 300\n"
     ]
    }
   ],
   "source": [
    "print(\"Dimension of a word vector: {}\".format(\n",
    "    len(pt_model[words[0]])\n",
    "))"
   ]
  },
  {
   "cell_type": "code",
   "execution_count": 25,
   "metadata": {
    "ExecuteTime": {
     "end_time": "2018-10-17T01:12:09.711001Z",
     "start_time": "2018-10-17T01:12:09.704514Z"
    }
   },
   "outputs": [
    {
     "data": {
      "text/plain": [
       "'artes'"
      ]
     },
     "execution_count": 25,
     "metadata": {},
     "output_type": "execute_result"
    }
   ],
   "source": [
    "words[1000]"
   ]
  },
  {
   "cell_type": "code",
   "execution_count": 26,
   "metadata": {
    "ExecuteTime": {
     "end_time": "2018-10-17T01:12:16.951818Z",
     "start_time": "2018-10-17T01:12:16.936021Z"
    }
   },
   "outputs": [
    {
     "name": "stdout",
     "output_type": "stream",
     "text": [
      "Vector components of a word: [-0.04817     0.11343    -0.21973    -0.096098   -0.0053306   0.20583\n",
      "  0.15409     0.20406    -0.010307   -0.045906   -0.019991   -0.14881\n",
      "  0.071691   -0.010353   -0.040639   -0.19218    -0.054845   -0.099474\n",
      " -0.032876   -0.19517     0.091734   -0.1428      0.031234    0.069291\n",
      " -0.014771   -0.0059432  -0.092041   -0.11749    -0.012621   -0.037947\n",
      "  0.045571   -0.086255    0.0032468   0.038197    0.05541    -0.14174\n",
      "  0.046568   -0.24105    -0.020556    0.075958    0.046163    0.14249\n",
      "  0.053788    0.073211   -0.020421    0.068428    0.078169    0.10405\n",
      "  0.058263   -0.22894    -0.083738    0.027697    0.060742    0.12547\n",
      "  0.018675   -0.059984    0.027855    0.12125    -0.089253    0.053595\n",
      " -0.076205   -0.11818     0.016257    0.031477   -0.080403    0.079504\n",
      " -0.24153    -0.069171    0.019415   -0.040792    0.081118   -0.072191\n",
      " -0.026516   -0.17692    -0.033728   -0.1433     -0.0073834  -0.043411\n",
      " -0.16559     0.084007   -0.043258    0.075611   -0.038506    0.10178\n",
      " -0.014164   -0.039431   -0.018892    0.10083    -0.044673   -0.066518\n",
      "  0.032729    0.12068    -0.057521   -0.086379    0.0043588  -0.025344\n",
      "  0.088528   -0.041286   -0.065288   -0.025802    0.039349   -0.025262\n",
      "  0.037309   -0.11558    -0.053951   -0.080582   -0.026138   -0.046479\n",
      " -0.088398   -0.14842    -0.1286      0.15495    -0.10139    -0.030474\n",
      " -0.1553      0.070775   -0.05087     0.042252    0.0014801   0.11506\n",
      "  0.11028     0.056508    0.013842   -0.19561    -0.23001    -0.20195\n",
      " -0.1444      0.096103    0.061385    0.23004     0.0098689   0.032605\n",
      "  0.0012474  -0.094954   -0.12193    -0.065095    0.055632    0.15131\n",
      " -0.087703   -0.23105     0.16589    -0.013872   -0.11899    -0.05481\n",
      " -0.059292    0.22415     0.090037    0.015503   -0.22465     0.14724\n",
      "  0.049563   -0.15764    -0.25737    -0.12097     0.026856    0.083712\n",
      "  0.057612   -0.025005   -0.054761   -0.052852   -0.036351    0.23492\n",
      "  0.13408    -0.02962     0.0091596  -0.06657     0.054596   -0.21224\n",
      "  0.12287     0.18719    -0.024616   -0.018041    0.035271   -0.052453\n",
      "  0.11375    -0.043666   -0.038379    0.036934    0.13901    -0.043165\n",
      "  0.12349    -0.015798   -0.0998      0.011071    0.10684     0.26116\n",
      " -0.035677   -0.14222     0.065454    0.063918   -0.24371     0.14301\n",
      "  0.14655     0.069025   -0.0070136   0.068131   -0.15322     0.063416\n",
      "  0.10631    -0.060219   -0.20616    -0.037022    0.029551    0.043043\n",
      " -0.041476    0.23184     0.10267    -0.20437     0.083067    0.083902\n",
      " -0.13047     0.094373   -0.19737    -0.0086829   0.020613   -0.10964\n",
      " -0.14177    -0.079105   -0.14265    -0.03605     0.00074296  0.18497\n",
      " -0.0006953  -0.1093     -0.046246   -0.0085369  -0.048433    0.071461\n",
      " -0.061555   -0.11352     0.038517    0.16842    -0.075028   -0.058336\n",
      " -0.011346   -0.036       0.036876   -0.13032     0.15139     0.13292\n",
      " -0.0023106  -0.15693     0.055051    0.22634     0.13237    -0.18694\n",
      " -0.040085   -0.0011609  -0.0038749   0.051323   -0.0066233  -0.10312\n",
      "  0.045998   -0.0004539   0.018992    0.018173    0.14996    -0.25278\n",
      " -0.2446      0.16529     0.051792    0.067366    0.046627    0.087862\n",
      " -0.049553   -0.019463   -0.14438     0.14509     0.19501    -0.14119\n",
      "  0.065484    0.028544    0.076939   -0.1182     -0.05742    -0.079319\n",
      "  0.0060654   0.029206    0.1345      0.17223     0.28799     0.15635\n",
      " -0.0064421  -0.11777    -0.037225    0.042539    0.028578    0.10535\n",
      " -0.12373    -0.020142   -0.044818    0.36148    -0.053418    0.021741\n",
      " -0.13966     0.07219    -0.036978   -0.067736   -0.11402    -0.01373   ]\n"
     ]
    }
   ],
   "source": [
    "print(\"Vector components of a word: {}\".format(\n",
    "    pt_model[words[0]]\n",
    "))"
   ]
  },
  {
   "cell_type": "code",
   "execution_count": 15,
   "metadata": {
    "ExecuteTime": {
     "end_time": "2018-10-17T00:52:16.779026Z",
     "start_time": "2018-10-17T00:52:16.703178Z"
    }
   },
   "outputs": [
    {
     "name": "stdout",
     "output_type": "stream",
     "text": [
      "Word: carros, Similarity: 0.75\n",
      "Word: caminhão, Similarity: 0.73\n",
      "Word: automóvel, Similarity: 0.70\n",
      "Word: carroção, Similarity: 0.69\n",
      "Word: motorista, Similarity: 0.68\n",
      "Word: caminhonete, Similarity: 0.67\n",
      "Word: capotar, Similarity: 0.66\n",
      "Word: furgão, Similarity: 0.65\n",
      "Word: carroçeria, Similarity: 0.65\n",
      "Word: capotando, Similarity: 0.65\n"
     ]
    },
    {
     "name": "stderr",
     "output_type": "stream",
     "text": [
      "/home/luke/anaconda3/envs/tf-gpu/lib/python3.6/site-packages/gensim/matutils.py:737: FutureWarning: Conversion of the second argument of issubdtype from `int` to `np.signedinteger` is deprecated. In future, it will be treated as `np.int64 == np.dtype(int).type`.\n",
      "  if np.issubdtype(vec.dtype, np.int):\n"
     ]
    }
   ],
   "source": [
    "find_similar_to = 'carro'\n",
    "\n",
    "for similar_word in pt_model.similar_by_word(find_similar_to):\n",
    "    print(\"Word: {0}, Similarity: {1:.2f}\".format(\n",
    "        similar_word[0], similar_word[1]\n",
    "    ))"
   ]
  },
  {
   "cell_type": "code",
   "execution_count": 13,
   "metadata": {
    "ExecuteTime": {
     "end_time": "2018-10-17T00:49:36.102443Z",
     "start_time": "2018-10-17T00:49:36.036812Z"
    }
   },
   "outputs": [
    {
     "name": "stdout",
     "output_type": "stream",
     "text": [
      "Word : comer , Similarity: 0.61\n",
      "Word : beberem , Similarity: 0.60\n",
      "Word : beberdes , Similarity: 0.59\n",
      "Word : beberes , Similarity: 0.57\n",
      "Word : bebemorar , Similarity: 0.57\n",
      "Word : beberagem , Similarity: 0.56\n",
      "Word : bebem , Similarity: 0.56\n",
      "Word : bebera , Similarity: 0.56\n",
      "Word : dormirem , Similarity: 0.55\n",
      "Word : beberá , Similarity: 0.55\n"
     ]
    },
    {
     "name": "stderr",
     "output_type": "stream",
     "text": [
      "/home/luke/anaconda3/envs/tf-gpu/lib/python3.6/site-packages/gensim/matutils.py:737: FutureWarning: Conversion of the second argument of issubdtype from `int` to `np.signedinteger` is deprecated. In future, it will be treated as `np.int64 == np.dtype(int).type`.\n",
      "  if np.issubdtype(vec.dtype, np.int):\n"
     ]
    }
   ],
   "source": [
    "word_add = ['dormir', 'beber']\n",
    "word_sub = ['cama']\n",
    "\n",
    "\n",
    "for resultant_word in pt_model.most_similar(\n",
    "    positive=word_add, negative=word_sub\n",
    "):\n",
    "    print(\"Word : {0} , Similarity: {1:.2f}\".format(\n",
    "        resultant_word[0], resultant_word[1]\n",
    "    ))"
   ]
  },
  {
   "cell_type": "code",
   "execution_count": null,
   "metadata": {
    "collapsed": true
   },
   "outputs": [],
   "source": [
    "def gkern(kernlen=5, nsig=3):\n",
    "    \"\"\"Returns a 2D Gaussian kernel array.\"\"\"\n",
    "\n",
    "    interval = (2*nsig+1.)/(kernlen)\n",
    "    x = np.linspace(-nsig-interval/2., nsig+interval/2., kernlen+1)\n",
    "    kern1d = np.diff(st.norm.cdf(x))\n",
    "    kernel_raw = np.sqrt(np.outer(kern1d, kern1d))\n",
    "    kernel = kernel_raw/kernel_raw.sum()\n",
    "    return kernel"
   ]
  },
  {
   "cell_type": "code",
   "execution_count": 3,
   "metadata": {
    "ExecuteTime": {
     "end_time": "2018-10-21T22:18:09.607751Z",
     "start_time": "2018-10-21T22:18:09.568908Z"
    },
    "collapsed": true
   },
   "outputs": [],
   "source": [
    "from scipy.signal import convolve2d\n",
    "\n",
    "\n",
    "class Classifier:\n",
    "    \n",
    "    def w2v(self, words):\n",
    "        pass\n",
    "    \n",
    "    def calc_var(self, words):\n",
    "            vs = np.array([self.model[word] for word in words])\n",
    "            mean = np.mean(vs, axis=0)\n",
    "            \n",
    "            return np.sum((vs - mean)**2)/vs.shape[0]\n",
    "            \n",
    "            \n",
    "    def calc_dists(self, word, kws):\n",
    "        dists = []\n",
    "        for kw in kws:\n",
    "            dists += [self.model.similarity(word, kw)]\n",
    "    \n",
    "        return np.array(dists)\n",
    "    \n",
    "    \n",
    "    def classify(self, url, kws, labels, dist_thresh=0.5, kws_thresh=0.5):\n",
    "        words = get_wd_list(url)\n",
    "        dists = []\n",
    "        for word in words:\n",
    "            dists += [self.calc_dists(word, kws)]\n",
    "            \n",
    "        dists = np.array(dists)\n",
    "        \n",
    "        dists = convolve2d(dists, gkern(), mode='same')\n",
    "        \n",
    "        df = pd.DataFrame(dists, columns=kws)\n",
    "        \n",
    "        result = dict()\n",
    "        for label in labels:\n",
    "            result[label.name] = (df[label.keywords].mean(axis=0) > dist_thresh).sum() > kws_thresh\n",
    "            \n",
    "        return result        \n",
    "        "
   ]
  },
  {
   "cell_type": "code",
   "execution_count": null,
   "metadata": {
    "collapsed": true
   },
   "outputs": [],
   "source": []
  }
 ],
 "metadata": {
  "kernelspec": {
   "display_name": "Python [default]",
   "language": "python",
   "name": "python3"
  },
  "language_info": {
   "codemirror_mode": {
    "name": "ipython",
    "version": 3
   },
   "file_extension": ".py",
   "mimetype": "text/x-python",
   "name": "python",
   "nbconvert_exporter": "python",
   "pygments_lexer": "ipython3",
   "version": "3.6.5"
  },
  "toc": {
   "base_numbering": 1,
   "nav_menu": {},
   "number_sections": true,
   "sideBar": true,
   "skip_h1_title": false,
   "title_cell": "Table of Contents",
   "title_sidebar": "Contents",
   "toc_cell": false,
   "toc_position": {},
   "toc_section_display": true,
   "toc_window_display": false
  }
 },
 "nbformat": 4,
 "nbformat_minor": 2
}
