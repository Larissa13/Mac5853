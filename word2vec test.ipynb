{
 "cells": [
  {
   "cell_type": "markdown",
   "metadata": {},
   "source": [
    "# Imports"
   ]
  },
  {
   "cell_type": "code",
   "execution_count": 1,
   "metadata": {
    "ExecuteTime": {
     "end_time": "2018-11-04T14:57:08.208304Z",
     "start_time": "2018-11-04T14:57:02.975874Z"
    }
   },
   "outputs": [],
   "source": [
    "from gensim.models import KeyedVectors\n",
    "from gensim.models import FastText\n",
    "from parser import Parser\n",
    "import numpy as np\n",
    "import scipy.stats as st\n",
    "import pandas as pd"
   ]
  },
  {
   "cell_type": "code",
   "execution_count": 51,
   "metadata": {
    "ExecuteTime": {
     "end_time": "2018-11-04T16:54:44.578177Z",
     "start_time": "2018-11-04T16:52:23.853876Z"
    }
   },
   "outputs": [],
   "source": [
    "pt_model = KeyedVectors.load_word2vec_format('wiki.pt/wiki.pt.vec')\n",
    "#pt_model = FastText.load_fasttext_format('wiki.pt/wiki.pt.bin')"
   ]
  },
  {
   "cell_type": "code",
   "execution_count": 6,
   "metadata": {
    "ExecuteTime": {
     "end_time": "2018-11-04T15:45:05.758859Z",
     "start_time": "2018-11-04T15:45:05.668276Z"
    },
    "collapsed": true
   },
   "outputs": [],
   "source": [
    "words = []\n",
    "for word in pt_model.vocab:\n",
    "    words.append(word)"
   ]
  },
  {
   "cell_type": "code",
   "execution_count": 7,
   "metadata": {
    "ExecuteTime": {
     "end_time": "2018-11-04T15:45:08.090733Z",
     "start_time": "2018-11-04T15:45:08.079356Z"
    }
   },
   "outputs": [
    {
     "name": "stdout",
     "output_type": "stream",
     "text": [
      "Number of Tokens: 592108\n"
     ]
    }
   ],
   "source": [
    "print(\"Number of Tokens: {}\".format(len(words)))"
   ]
  },
  {
   "cell_type": "code",
   "execution_count": 8,
   "metadata": {
    "ExecuteTime": {
     "end_time": "2018-11-04T15:45:08.772283Z",
     "start_time": "2018-11-04T15:45:08.763330Z"
    }
   },
   "outputs": [
    {
     "name": "stdout",
     "output_type": "stream",
     "text": [
      "Dimension of a word vector: 300\n"
     ]
    }
   ],
   "source": [
    "print(\"Dimension of a word vector: {}\".format(\n",
    "    len(pt_model[words[0]])\n",
    "))"
   ]
  },
  {
   "cell_type": "code",
   "execution_count": 9,
   "metadata": {
    "ExecuteTime": {
     "end_time": "2018-11-04T15:45:09.640491Z",
     "start_time": "2018-11-04T15:45:09.611228Z"
    }
   },
   "outputs": [
    {
     "data": {
      "text/plain": [
       "'artes'"
      ]
     },
     "execution_count": 9,
     "metadata": {},
     "output_type": "execute_result"
    }
   ],
   "source": [
    "words[1000]"
   ]
  },
  {
   "cell_type": "code",
   "execution_count": 10,
   "metadata": {
    "ExecuteTime": {
     "end_time": "2018-11-04T15:45:10.327314Z",
     "start_time": "2018-11-04T15:45:10.296619Z"
    }
   },
   "outputs": [
    {
     "name": "stdout",
     "output_type": "stream",
     "text": [
      "Vector components of a word: [-0.04817     0.11343    -0.21973    -0.096098   -0.0053306   0.20583\n",
      "  0.15409     0.20406    -0.010307   -0.045906   -0.019991   -0.14881\n",
      "  0.071691   -0.010353   -0.040639   -0.19218    -0.054845   -0.099474\n",
      " -0.032876   -0.19517     0.091734   -0.1428      0.031234    0.069291\n",
      " -0.014771   -0.0059432  -0.092041   -0.11749    -0.012621   -0.037947\n",
      "  0.045571   -0.086255    0.0032468   0.038197    0.05541    -0.14174\n",
      "  0.046568   -0.24105    -0.020556    0.075958    0.046163    0.14249\n",
      "  0.053788    0.073211   -0.020421    0.068428    0.078169    0.10405\n",
      "  0.058263   -0.22894    -0.083738    0.027697    0.060742    0.12547\n",
      "  0.018675   -0.059984    0.027855    0.12125    -0.089253    0.053595\n",
      " -0.076205   -0.11818     0.016257    0.031477   -0.080403    0.079504\n",
      " -0.24153    -0.069171    0.019415   -0.040792    0.081118   -0.072191\n",
      " -0.026516   -0.17692    -0.033728   -0.1433     -0.0073834  -0.043411\n",
      " -0.16559     0.084007   -0.043258    0.075611   -0.038506    0.10178\n",
      " -0.014164   -0.039431   -0.018892    0.10083    -0.044673   -0.066518\n",
      "  0.032729    0.12068    -0.057521   -0.086379    0.0043588  -0.025344\n",
      "  0.088528   -0.041286   -0.065288   -0.025802    0.039349   -0.025262\n",
      "  0.037309   -0.11558    -0.053951   -0.080582   -0.026138   -0.046479\n",
      " -0.088398   -0.14842    -0.1286      0.15495    -0.10139    -0.030474\n",
      " -0.1553      0.070775   -0.05087     0.042252    0.0014801   0.11506\n",
      "  0.11028     0.056508    0.013842   -0.19561    -0.23001    -0.20195\n",
      " -0.1444      0.096103    0.061385    0.23004     0.0098689   0.032605\n",
      "  0.0012474  -0.094954   -0.12193    -0.065095    0.055632    0.15131\n",
      " -0.087703   -0.23105     0.16589    -0.013872   -0.11899    -0.05481\n",
      " -0.059292    0.22415     0.090037    0.015503   -0.22465     0.14724\n",
      "  0.049563   -0.15764    -0.25737    -0.12097     0.026856    0.083712\n",
      "  0.057612   -0.025005   -0.054761   -0.052852   -0.036351    0.23492\n",
      "  0.13408    -0.02962     0.0091596  -0.06657     0.054596   -0.21224\n",
      "  0.12287     0.18719    -0.024616   -0.018041    0.035271   -0.052453\n",
      "  0.11375    -0.043666   -0.038379    0.036934    0.13901    -0.043165\n",
      "  0.12349    -0.015798   -0.0998      0.011071    0.10684     0.26116\n",
      " -0.035677   -0.14222     0.065454    0.063918   -0.24371     0.14301\n",
      "  0.14655     0.069025   -0.0070136   0.068131   -0.15322     0.063416\n",
      "  0.10631    -0.060219   -0.20616    -0.037022    0.029551    0.043043\n",
      " -0.041476    0.23184     0.10267    -0.20437     0.083067    0.083902\n",
      " -0.13047     0.094373   -0.19737    -0.0086829   0.020613   -0.10964\n",
      " -0.14177    -0.079105   -0.14265    -0.03605     0.00074296  0.18497\n",
      " -0.0006953  -0.1093     -0.046246   -0.0085369  -0.048433    0.071461\n",
      " -0.061555   -0.11352     0.038517    0.16842    -0.075028   -0.058336\n",
      " -0.011346   -0.036       0.036876   -0.13032     0.15139     0.13292\n",
      " -0.0023106  -0.15693     0.055051    0.22634     0.13237    -0.18694\n",
      " -0.040085   -0.0011609  -0.0038749   0.051323   -0.0066233  -0.10312\n",
      "  0.045998   -0.0004539   0.018992    0.018173    0.14996    -0.25278\n",
      " -0.2446      0.16529     0.051792    0.067366    0.046627    0.087862\n",
      " -0.049553   -0.019463   -0.14438     0.14509     0.19501    -0.14119\n",
      "  0.065484    0.028544    0.076939   -0.1182     -0.05742    -0.079319\n",
      "  0.0060654   0.029206    0.1345      0.17223     0.28799     0.15635\n",
      " -0.0064421  -0.11777    -0.037225    0.042539    0.028578    0.10535\n",
      " -0.12373    -0.020142   -0.044818    0.36148    -0.053418    0.021741\n",
      " -0.13966     0.07219    -0.036978   -0.067736   -0.11402    -0.01373   ]\n"
     ]
    }
   ],
   "source": [
    "print(\"Vector components of a word: {}\".format(\n",
    "    pt_model[words[0]]\n",
    "))"
   ]
  },
  {
   "cell_type": "code",
   "execution_count": 11,
   "metadata": {
    "ExecuteTime": {
     "end_time": "2018-11-04T15:45:12.379448Z",
     "start_time": "2018-11-04T15:45:11.018401Z"
    }
   },
   "outputs": [
    {
     "name": "stdout",
     "output_type": "stream",
     "text": [
      "Word: carros, Similarity: 0.75\n",
      "Word: caminhão, Similarity: 0.73\n",
      "Word: automóvel, Similarity: 0.70\n",
      "Word: carroção, Similarity: 0.69\n",
      "Word: motorista, Similarity: 0.68\n",
      "Word: caminhonete, Similarity: 0.67\n",
      "Word: capotar, Similarity: 0.66\n",
      "Word: furgão, Similarity: 0.65\n",
      "Word: carroçeria, Similarity: 0.65\n",
      "Word: capotando, Similarity: 0.65\n"
     ]
    },
    {
     "name": "stderr",
     "output_type": "stream",
     "text": [
      "/home/larissa/anaconda3/lib/python3.6/site-packages/gensim/matutils.py:737: FutureWarning: Conversion of the second argument of issubdtype from `int` to `np.signedinteger` is deprecated. In future, it will be treated as `np.int64 == np.dtype(int).type`.\n",
      "  if np.issubdtype(vec.dtype, np.int):\n"
     ]
    }
   ],
   "source": [
    "find_similar_to = 'carro'\n",
    "\n",
    "for similar_word in pt_model.similar_by_word(find_similar_to):\n",
    "    print(\"Word: {0}, Similarity: {1:.2f}\".format(\n",
    "        similar_word[0], similar_word[1]\n",
    "    ))"
   ]
  },
  {
   "cell_type": "code",
   "execution_count": 12,
   "metadata": {
    "ExecuteTime": {
     "end_time": "2018-11-04T15:45:12.485931Z",
     "start_time": "2018-11-04T15:45:12.383490Z"
    }
   },
   "outputs": [
    {
     "name": "stderr",
     "output_type": "stream",
     "text": [
      "/home/larissa/anaconda3/lib/python3.6/site-packages/gensim/matutils.py:737: FutureWarning: Conversion of the second argument of issubdtype from `int` to `np.signedinteger` is deprecated. In future, it will be treated as `np.int64 == np.dtype(int).type`.\n",
      "  if np.issubdtype(vec.dtype, np.int):\n"
     ]
    },
    {
     "name": "stdout",
     "output_type": "stream",
     "text": [
      "Word : comer , Similarity: 0.61\n",
      "Word : beberem , Similarity: 0.60\n",
      "Word : beberdes , Similarity: 0.59\n",
      "Word : beberes , Similarity: 0.57\n",
      "Word : bebemorar , Similarity: 0.57\n",
      "Word : beberagem , Similarity: 0.56\n",
      "Word : bebem , Similarity: 0.56\n",
      "Word : bebera , Similarity: 0.56\n",
      "Word : dormirem , Similarity: 0.55\n",
      "Word : beberá , Similarity: 0.55\n"
     ]
    }
   ],
   "source": [
    "word_add = ['dormir', 'beber']\n",
    "word_sub = ['cama']\n",
    "\n",
    "\n",
    "for resultant_word in pt_model.most_similar(\n",
    "    positive=word_add, negative=word_sub\n",
    "):\n",
    "    print(\"Word : {0} , Similarity: {1:.2f}\".format(\n",
    "        resultant_word[0], resultant_word[1]\n",
    "    ))"
   ]
  },
  {
   "cell_type": "code",
   "execution_count": 13,
   "metadata": {
    "ExecuteTime": {
     "end_time": "2018-11-04T15:45:14.515618Z",
     "start_time": "2018-11-04T15:45:14.507548Z"
    },
    "collapsed": true
   },
   "outputs": [],
   "source": [
    "def gkern(kernlen=5, nsig=3):\n",
    "    \"\"\"Returns a 2D Gaussian kernel array.\"\"\"\n",
    "\n",
    "    interval = (2*nsig+1.)/(kernlen)\n",
    "    x = np.linspace(-nsig-interval/2., nsig+interval/2., kernlen+1)\n",
    "    kern1d = np.diff(st.norm.cdf(x))\n",
    "    kernel_raw = np.sqrt(np.outer(kern1d, kern1d))\n",
    "    kernel = kernel_raw/kernel_raw.sum()\n",
    "    return kernel"
   ]
  },
  {
   "cell_type": "code",
   "execution_count": 14,
   "metadata": {
    "ExecuteTime": {
     "end_time": "2018-11-04T15:45:15.711998Z",
     "start_time": "2018-11-04T15:45:15.085927Z"
    },
    "collapsed": true
   },
   "outputs": [],
   "source": [
    "from scipy.signal import convolve2d\n",
    "\n",
    "\n",
    "class Classifier:\n",
    "    \n",
    "    def __init__(self, model=None):\n",
    "        self.parser = Parser()\n",
    "        if model is None:\n",
    "            self.model = KeyedVectors.load_word2vec_format('wiki.pt/wiki.pt.vec')\n",
    "        else:\n",
    "            self.model = model\n",
    "    \n",
    "    def w2v(self, words):\n",
    "        pass\n",
    "    \n",
    "    def calc_var(self, words):\n",
    "            vs = np.array([self.model[word] for word in words])\n",
    "            mean = np.mean(vs, axis=0)\n",
    "            \n",
    "            return np.sum((vs - mean)**2)/vs.shape[0]\n",
    "            \n",
    "            \n",
    "    def calc_dists(self, word, kws):\n",
    "        dists = []\n",
    "        for kw in kws:\n",
    "            dists += [self.model.similarity(word, kw)]\n",
    "    \n",
    "        return np.array(dists)\n",
    "    \n",
    "    def rm_unseen(self, words):\n",
    "        return [word for word in words if word in self.model.wv.vocab] \n",
    "    \n",
    "    def classify(self, url, kws, labels, dist_thresh=0.20, kws_thresh=0.49):\n",
    "        kws = self.rm_unseen(kws)\n",
    "        \n",
    "        words = self.parser.parse(url)\n",
    "        words = self.rm_unseen(words)\n",
    "        for label in labels:\n",
    "            label.keywords = self.rm_unseen(label.keywords)\n",
    "        dists = []\n",
    "        for word in words:\n",
    "            dists += [self.calc_dists(word, kws)]\n",
    "            \n",
    "        dists = np.array(dists)\n",
    "        \n",
    "        #print(dists)\n",
    "        #dists = convolve2d(dists, gkern(), mode='same')\n",
    "        #print(dists)\n",
    "        df = pd.DataFrame(dists, columns=kws)\n",
    "        \n",
    "        result = dict()\n",
    "        for label in labels:\n",
    "            print(df[label.keywords].mean(axis=0))\n",
    "            print(label.name, (df[label.keywords].mean(axis=0) > dist_thresh).mean())\n",
    "            result[label.name] = (df[label.keywords].mean(axis=0) > dist_thresh).mean() > kws_thresh\n",
    "            \n",
    "        return result        \n",
    "        "
   ]
  },
  {
   "cell_type": "code",
   "execution_count": 15,
   "metadata": {
    "ExecuteTime": {
     "end_time": "2018-11-04T15:45:16.561372Z",
     "start_time": "2018-11-04T15:45:16.547961Z"
    },
    "collapsed": true
   },
   "outputs": [],
   "source": [
    "class Label:\n",
    "    def __init__(self, name, kws):\n",
    "        self.keywords = kws\n",
    "        self.name = name"
   ]
  },
  {
   "cell_type": "code",
   "execution_count": 160,
   "metadata": {
    "ExecuteTime": {
     "end_time": "2018-11-04T22:52:42.253951Z",
     "start_time": "2018-11-04T22:52:42.249195Z"
    },
    "collapsed": true
   },
   "outputs": [],
   "source": [
    "gun_keywords = ['arma', 'munição', 'calibre', 'revólver', 'cano', 'carabina', 'espingarda']\n",
    "cigar_keywords = ['cigarro', 'vape', 'narguile', 'fumar', 'tragar',\n",
    "                  'tabaco', 'nicotina', 'vaporizador', 'ervas']\n",
    "prost_keywords = ['sexo', 'prostituta', 'fetiche', 'cache', 'acompanhante', 'programa', \n",
    "                  'seios', 'bunda', 'travesti', 'gostosa']\n",
    "med_keywords = ['remédio', 'aborto', 'comprimido', 'secundários', 'efeitos']\n",
    "serv_keywords = ['operadora', 'cabo', 'assinatura', 'liberação', 'sem', 'aparelhos', 'net', 'vivo']\n",
    "\n",
    "kws = gun_keywords + cigar_keywords + prost_keywords + med_keywords + serv_keywords\n",
    "kws = list(set(kws))"
   ]
  },
  {
   "cell_type": "code",
   "execution_count": 161,
   "metadata": {
    "ExecuteTime": {
     "end_time": "2018-11-04T22:52:42.390038Z",
     "start_time": "2018-11-04T22:52:42.255402Z"
    },
    "collapsed": true
   },
   "outputs": [],
   "source": [
    "gun_label = Label(\"arma\", gun_keywords)\n",
    "cigar_label = Label(\"cigarro\", cigar_keywords)\n",
    "prost_label = Label(\"prostituição\", prost_keywords)\n",
    "med_label = Label(\"remedios proibidos\", med_keywords)\n",
    "serv_label = Label(\"serviços ilegais\", serv_keywords)\n",
    "\n",
    "labels = [gun_label, cigar_label, prost_label, med_label, serv_label]"
   ]
  },
  {
   "cell_type": "code",
   "execution_count": 162,
   "metadata": {
    "ExecuteTime": {
     "end_time": "2018-11-04T22:52:42.467487Z",
     "start_time": "2018-11-04T22:52:42.402640Z"
    },
    "collapsed": true
   },
   "outputs": [],
   "source": [
    "cls = Classifier(model=pt_model)"
   ]
  },
  {
   "cell_type": "code",
   "execution_count": 163,
   "metadata": {
    "ExecuteTime": {
     "end_time": "2018-11-04T22:53:23.465245Z",
     "start_time": "2018-11-04T22:52:42.475632Z"
    }
   },
   "outputs": [
    {
     "name": "stderr",
     "output_type": "stream",
     "text": [
      "/home/larissa/anaconda3/lib/python3.6/site-packages/ipykernel/__main__.py:31: DeprecationWarning: Call to deprecated `wv` (Attribute will be removed in 4.0.0, use self instead).\n",
      "/home/larissa/anaconda3/lib/python3.6/site-packages/gensim/matutils.py:737: FutureWarning: Conversion of the second argument of issubdtype from `int` to `np.signedinteger` is deprecated. In future, it will be treated as `np.int64 == np.dtype(int).type`.\n",
      "  if np.issubdtype(vec.dtype, np.int):\n"
     ]
    },
    {
     "name": "stdout",
     "output_type": "stream",
     "text": [
      "arma          0.253326\n",
      "munição       0.255737\n",
      "calibre       0.237513\n",
      "revólver      0.237542\n",
      "cano          0.225109\n",
      "carabina      0.224969\n",
      "espingarda    0.242755\n",
      "dtype: float32\n",
      "arma 1.0\n",
      "cigarro        0.201649\n",
      "narguile       0.194104\n",
      "fumar          0.181008\n",
      "tragar         0.151890\n",
      "tabaco         0.175283\n",
      "nicotina       0.196943\n",
      "vaporizador    0.223267\n",
      "ervas          0.157624\n",
      "dtype: float32\n",
      "cigarro 0.25\n",
      "sexo            0.145493\n",
      "prostituta      0.150997\n",
      "fetiche         0.165805\n",
      "cache           0.189345\n",
      "acompanhante    0.181028\n",
      "programa        0.166852\n",
      "seios           0.167073\n",
      "bunda           0.155649\n",
      "travesti        0.153018\n",
      "gostosa         0.169046\n",
      "dtype: float32\n",
      "prostituição 0.0\n",
      "remédio        0.160872\n",
      "aborto         0.149549\n",
      "comprimido     0.247040\n",
      "secundários    0.143253\n",
      "efeitos        0.174954\n",
      "dtype: float32\n",
      "remedios proibidos 0.2\n",
      "operadora     0.187996\n",
      "cabo          0.155596\n",
      "assinatura    0.168312\n",
      "liberação     0.167180\n",
      "sem           0.184102\n",
      "aparelhos     0.207391\n",
      "net           0.157715\n",
      "vivo          0.156074\n",
      "dtype: float32\n",
      "serviços ilegais 0.125\n"
     ]
    },
    {
     "data": {
      "text/plain": [
       "{'arma': True,\n",
       " 'cigarro': False,\n",
       " 'prostituição': False,\n",
       " 'remedios proibidos': False,\n",
       " 'serviços ilegais': False}"
      ]
     },
     "execution_count": 163,
     "metadata": {},
     "output_type": "execute_result"
    }
   ],
   "source": [
    "cls.classify(\"https://www.falconarmas.com.br/\", kws, labels)"
   ]
  },
  {
   "cell_type": "code",
   "execution_count": 164,
   "metadata": {
    "ExecuteTime": {
     "end_time": "2018-11-04T22:53:36.715682Z",
     "start_time": "2018-11-04T22:53:23.466762Z"
    }
   },
   "outputs": [
    {
     "name": "stderr",
     "output_type": "stream",
     "text": [
      "/home/larissa/anaconda3/lib/python3.6/site-packages/ipykernel/__main__.py:31: DeprecationWarning: Call to deprecated `wv` (Attribute will be removed in 4.0.0, use self instead).\n",
      "/home/larissa/anaconda3/lib/python3.6/site-packages/gensim/matutils.py:737: FutureWarning: Conversion of the second argument of issubdtype from `int` to `np.signedinteger` is deprecated. In future, it will be treated as `np.int64 == np.dtype(int).type`.\n",
      "  if np.issubdtype(vec.dtype, np.int):\n"
     ]
    },
    {
     "name": "stdout",
     "output_type": "stream",
     "text": [
      "arma          0.269945\n",
      "munição       0.271822\n",
      "calibre       0.250421\n",
      "revólver      0.233669\n",
      "cano          0.224187\n",
      "carabina      0.221521\n",
      "espingarda    0.248639\n",
      "dtype: float32\n",
      "arma 1.0\n",
      "cigarro        0.193026\n",
      "narguile       0.196481\n",
      "fumar          0.186121\n",
      "tragar         0.160582\n",
      "tabaco         0.185632\n",
      "nicotina       0.198560\n",
      "vaporizador    0.205406\n",
      "ervas          0.161726\n",
      "dtype: float32\n",
      "cigarro 0.125\n",
      "sexo            0.143577\n",
      "prostituta      0.149248\n",
      "fetiche         0.164413\n",
      "cache           0.172525\n",
      "acompanhante    0.168777\n",
      "programa        0.168876\n",
      "seios           0.149663\n",
      "bunda           0.145937\n",
      "travesti        0.141096\n",
      "gostosa         0.157661\n",
      "dtype: float32\n",
      "prostituição 0.0\n",
      "remédio        0.168928\n",
      "aborto         0.161862\n",
      "comprimido     0.236990\n",
      "secundários    0.157982\n",
      "efeitos        0.187185\n",
      "dtype: float32\n",
      "remedios proibidos 0.2\n",
      "operadora     0.182683\n",
      "cabo          0.154909\n",
      "assinatura    0.170537\n",
      "liberação     0.185439\n",
      "sem           0.201791\n",
      "aparelhos     0.207564\n",
      "net           0.139534\n",
      "vivo          0.153221\n",
      "dtype: float32\n",
      "serviços ilegais 0.25\n"
     ]
    },
    {
     "data": {
      "text/plain": [
       "{'arma': True,\n",
       " 'cigarro': False,\n",
       " 'prostituição': False,\n",
       " 'remedios proibidos': False,\n",
       " 'serviços ilegais': False}"
      ]
     },
     "execution_count": 164,
     "metadata": {},
     "output_type": "execute_result"
    }
   ],
   "source": [
    "cls.classify(\"https://belicosarsenais.wixsite.com/armas\", kws, labels)"
   ]
  },
  {
   "cell_type": "code",
   "execution_count": 165,
   "metadata": {
    "ExecuteTime": {
     "end_time": "2018-11-04T22:54:09.637673Z",
     "start_time": "2018-11-04T22:53:36.717361Z"
    }
   },
   "outputs": [
    {
     "name": "stderr",
     "output_type": "stream",
     "text": [
      "/home/larissa/anaconda3/lib/python3.6/site-packages/ipykernel/__main__.py:31: DeprecationWarning: Call to deprecated `wv` (Attribute will be removed in 4.0.0, use self instead).\n",
      "/home/larissa/anaconda3/lib/python3.6/site-packages/gensim/matutils.py:737: FutureWarning: Conversion of the second argument of issubdtype from `int` to `np.signedinteger` is deprecated. In future, it will be treated as `np.int64 == np.dtype(int).type`.\n",
      "  if np.issubdtype(vec.dtype, np.int):\n"
     ]
    },
    {
     "name": "stdout",
     "output_type": "stream",
     "text": [
      "arma          0.189442\n",
      "munição       0.188115\n",
      "calibre       0.168177\n",
      "revólver      0.187231\n",
      "cano          0.163297\n",
      "carabina      0.154322\n",
      "espingarda    0.169484\n",
      "dtype: float32\n",
      "arma 0.0\n",
      "cigarro        0.213053\n",
      "narguile       0.204581\n",
      "fumar          0.202962\n",
      "tragar         0.204456\n",
      "tabaco         0.169153\n",
      "nicotina       0.201056\n",
      "vaporizador    0.221912\n",
      "ervas          0.148763\n",
      "dtype: float32\n",
      "cigarro 0.75\n",
      "sexo            0.159067\n",
      "prostituta      0.151278\n",
      "fetiche         0.177133\n",
      "cache           0.203095\n",
      "acompanhante    0.194989\n",
      "programa        0.182642\n",
      "seios           0.162874\n",
      "bunda           0.170823\n",
      "travesti        0.162515\n",
      "gostosa         0.195989\n",
      "dtype: float32\n",
      "prostituição 0.1\n",
      "remédio        0.175637\n",
      "aborto         0.159074\n",
      "comprimido     0.219911\n",
      "secundários    0.142496\n",
      "efeitos        0.179804\n",
      "dtype: float32\n",
      "remedios proibidos 0.2\n",
      "operadora     0.179952\n",
      "cabo          0.133944\n",
      "assinatura    0.181491\n",
      "liberação     0.174037\n",
      "sem           0.197564\n",
      "aparelhos     0.181980\n",
      "net           0.178588\n",
      "vivo          0.175622\n",
      "dtype: float32\n",
      "serviços ilegais 0.0\n"
     ]
    },
    {
     "data": {
      "text/plain": [
       "{'arma': False,\n",
       " 'cigarro': True,\n",
       " 'prostituição': False,\n",
       " 'remedios proibidos': False,\n",
       " 'serviços ilegais': False}"
      ]
     },
     "execution_count": 165,
     "metadata": {},
     "output_type": "execute_result"
    }
   ],
   "source": [
    "cls.classify(\"https://www.mundodovapor.com/\", kws, labels)"
   ]
  },
  {
   "cell_type": "code",
   "execution_count": 166,
   "metadata": {
    "ExecuteTime": {
     "end_time": "2018-11-04T22:54:50.552459Z",
     "start_time": "2018-11-04T22:54:09.639307Z"
    }
   },
   "outputs": [
    {
     "name": "stderr",
     "output_type": "stream",
     "text": [
      "/home/larissa/anaconda3/lib/python3.6/site-packages/ipykernel/__main__.py:31: DeprecationWarning: Call to deprecated `wv` (Attribute will be removed in 4.0.0, use self instead).\n",
      "/home/larissa/anaconda3/lib/python3.6/site-packages/gensim/matutils.py:737: FutureWarning: Conversion of the second argument of issubdtype from `int` to `np.signedinteger` is deprecated. In future, it will be treated as `np.int64 == np.dtype(int).type`.\n",
      "  if np.issubdtype(vec.dtype, np.int):\n"
     ]
    },
    {
     "name": "stdout",
     "output_type": "stream",
     "text": [
      "arma          0.193164\n",
      "munição       0.197624\n",
      "calibre       0.162900\n",
      "revólver      0.194959\n",
      "cano          0.165957\n",
      "carabina      0.159977\n",
      "espingarda    0.181876\n",
      "dtype: float32\n",
      "arma 0.0\n",
      "cigarro        0.257276\n",
      "narguile       0.205394\n",
      "fumar          0.212883\n",
      "tragar         0.165370\n",
      "tabaco         0.210259\n",
      "nicotina       0.227994\n",
      "vaporizador    0.236178\n",
      "ervas          0.167323\n",
      "dtype: float32\n",
      "cigarro 0.75\n",
      "sexo            0.149087\n",
      "prostituta      0.160413\n",
      "fetiche         0.167892\n",
      "cache           0.196434\n",
      "acompanhante    0.198016\n",
      "programa        0.177076\n",
      "seios           0.160446\n",
      "bunda           0.159190\n",
      "travesti        0.166035\n",
      "gostosa         0.176605\n",
      "dtype: float32\n",
      "prostituição 0.0\n",
      "remédio        0.178895\n",
      "aborto         0.163219\n",
      "comprimido     0.219879\n",
      "secundários    0.143010\n",
      "efeitos        0.178993\n",
      "dtype: float32\n",
      "remedios proibidos 0.2\n",
      "operadora     0.191174\n",
      "cabo          0.132208\n",
      "assinatura    0.175557\n",
      "liberação     0.178008\n",
      "sem           0.168389\n",
      "aparelhos     0.194539\n",
      "net           0.171968\n",
      "vivo          0.180284\n",
      "dtype: float32\n",
      "serviços ilegais 0.0\n"
     ]
    },
    {
     "data": {
      "text/plain": [
       "{'arma': False,\n",
       " 'cigarro': True,\n",
       " 'prostituição': False,\n",
       " 'remedios proibidos': False,\n",
       " 'serviços ilegais': False}"
      ]
     },
     "execution_count": 166,
     "metadata": {},
     "output_type": "execute_result"
    }
   ],
   "source": [
    "cls.classify(\"https://www.elitesmokebr.com/\", kws, labels)"
   ]
  },
  {
   "cell_type": "code",
   "execution_count": 167,
   "metadata": {
    "ExecuteTime": {
     "end_time": "2018-11-04T22:55:18.615425Z",
     "start_time": "2018-11-04T22:54:50.554352Z"
    }
   },
   "outputs": [
    {
     "name": "stderr",
     "output_type": "stream",
     "text": [
      "/home/larissa/anaconda3/lib/python3.6/site-packages/ipykernel/__main__.py:31: DeprecationWarning: Call to deprecated `wv` (Attribute will be removed in 4.0.0, use self instead).\n",
      "/home/larissa/anaconda3/lib/python3.6/site-packages/gensim/matutils.py:737: FutureWarning: Conversion of the second argument of issubdtype from `int` to `np.signedinteger` is deprecated. In future, it will be treated as `np.int64 == np.dtype(int).type`.\n",
      "  if np.issubdtype(vec.dtype, np.int):\n"
     ]
    },
    {
     "name": "stdout",
     "output_type": "stream",
     "text": [
      "arma          0.194085\n",
      "munição       0.194330\n",
      "calibre       0.164809\n",
      "revólver      0.197411\n",
      "cano          0.164427\n",
      "carabina      0.159500\n",
      "espingarda    0.180159\n",
      "dtype: float32\n",
      "arma 0.0\n",
      "cigarro        0.247953\n",
      "narguile       0.209256\n",
      "fumar          0.208849\n",
      "tragar         0.175712\n",
      "tabaco         0.200606\n",
      "nicotina       0.220818\n",
      "vaporizador    0.237907\n",
      "ervas          0.168611\n",
      "dtype: float32\n",
      "cigarro 0.75\n",
      "sexo            0.152867\n",
      "prostituta      0.162277\n",
      "fetiche         0.176254\n",
      "cache           0.199786\n",
      "acompanhante    0.208054\n",
      "programa        0.181398\n",
      "seios           0.166611\n",
      "bunda           0.164968\n",
      "travesti        0.171772\n",
      "gostosa         0.195100\n",
      "dtype: float32\n",
      "prostituição 0.1\n",
      "remédio        0.178672\n",
      "aborto         0.155243\n",
      "comprimido     0.223266\n",
      "secundários    0.141194\n",
      "efeitos        0.178203\n",
      "dtype: float32\n",
      "remedios proibidos 0.2\n",
      "operadora     0.194568\n",
      "cabo          0.128648\n",
      "assinatura    0.176196\n",
      "liberação     0.177226\n",
      "sem           0.172929\n",
      "aparelhos     0.199827\n",
      "net           0.172769\n",
      "vivo          0.185847\n",
      "dtype: float32\n",
      "serviços ilegais 0.0\n"
     ]
    },
    {
     "data": {
      "text/plain": [
       "{'arma': False,\n",
       " 'cigarro': True,\n",
       " 'prostituição': False,\n",
       " 'remedios proibidos': False,\n",
       " 'serviços ilegais': False}"
      ]
     },
     "execution_count": 167,
     "metadata": {},
     "output_type": "execute_result"
    }
   ],
   "source": [
    "cls.classify(\"https://www.vaporesabor.com.br/\", kws, labels)"
   ]
  },
  {
   "cell_type": "code",
   "execution_count": 168,
   "metadata": {
    "ExecuteTime": {
     "end_time": "2018-11-04T22:55:45.047112Z",
     "start_time": "2018-11-04T22:55:18.617324Z"
    }
   },
   "outputs": [
    {
     "name": "stderr",
     "output_type": "stream",
     "text": [
      "/home/larissa/anaconda3/lib/python3.6/site-packages/ipykernel/__main__.py:31: DeprecationWarning: Call to deprecated `wv` (Attribute will be removed in 4.0.0, use self instead).\n",
      "/home/larissa/anaconda3/lib/python3.6/site-packages/gensim/matutils.py:737: FutureWarning: Conversion of the second argument of issubdtype from `int` to `np.signedinteger` is deprecated. In future, it will be treated as `np.int64 == np.dtype(int).type`.\n",
      "  if np.issubdtype(vec.dtype, np.int):\n"
     ]
    },
    {
     "name": "stdout",
     "output_type": "stream",
     "text": [
      "arma          0.184945\n",
      "munição       0.188858\n",
      "calibre       0.170565\n",
      "revólver      0.177075\n",
      "cano          0.158271\n",
      "carabina      0.154797\n",
      "espingarda    0.167729\n",
      "dtype: float32\n",
      "arma 0.0\n",
      "cigarro        0.209731\n",
      "narguile       0.205299\n",
      "fumar          0.194032\n",
      "tragar         0.179374\n",
      "tabaco         0.187875\n",
      "nicotina       0.213012\n",
      "vaporizador    0.212595\n",
      "ervas          0.164457\n",
      "dtype: float32\n",
      "cigarro 0.5\n",
      "sexo            0.155054\n",
      "prostituta      0.154011\n",
      "fetiche         0.174853\n",
      "cache           0.193667\n",
      "acompanhante    0.188357\n",
      "programa        0.176659\n",
      "seios           0.159408\n",
      "bunda           0.159698\n",
      "travesti        0.163986\n",
      "gostosa         0.193137\n",
      "dtype: float32\n",
      "prostituição 0.0\n",
      "remédio        0.177837\n",
      "aborto         0.152720\n",
      "comprimido     0.219110\n",
      "secundários    0.146909\n",
      "efeitos        0.179084\n",
      "dtype: float32\n",
      "remedios proibidos 0.2\n",
      "operadora     0.183081\n",
      "cabo          0.139382\n",
      "assinatura    0.168118\n",
      "liberação     0.173791\n",
      "sem           0.186022\n",
      "aparelhos     0.188378\n",
      "net           0.162965\n",
      "vivo          0.171450\n",
      "dtype: float32\n",
      "serviços ilegais 0.0\n"
     ]
    },
    {
     "data": {
      "text/plain": [
       "{'arma': False,\n",
       " 'cigarro': True,\n",
       " 'prostituição': False,\n",
       " 'remedios proibidos': False,\n",
       " 'serviços ilegais': False}"
      ]
     },
     "execution_count": 168,
     "metadata": {},
     "output_type": "execute_result"
    }
   ],
   "source": [
    "cls.classify(\"https://www.queenflavor.com/\", kws, labels)"
   ]
  },
  {
   "cell_type": "code",
   "execution_count": 169,
   "metadata": {
    "ExecuteTime": {
     "end_time": "2018-11-04T22:56:11.973611Z",
     "start_time": "2018-11-04T22:55:45.048205Z"
    }
   },
   "outputs": [
    {
     "name": "stderr",
     "output_type": "stream",
     "text": [
      "/home/larissa/anaconda3/lib/python3.6/site-packages/ipykernel/__main__.py:31: DeprecationWarning: Call to deprecated `wv` (Attribute will be removed in 4.0.0, use self instead).\n",
      "/home/larissa/anaconda3/lib/python3.6/site-packages/gensim/matutils.py:737: FutureWarning: Conversion of the second argument of issubdtype from `int` to `np.signedinteger` is deprecated. In future, it will be treated as `np.int64 == np.dtype(int).type`.\n",
      "  if np.issubdtype(vec.dtype, np.int):\n"
     ]
    },
    {
     "name": "stdout",
     "output_type": "stream",
     "text": [
      "arma          0.177170\n",
      "munição       0.172994\n",
      "calibre       0.149895\n",
      "revólver      0.175618\n",
      "cano          0.161377\n",
      "carabina      0.150537\n",
      "espingarda    0.167099\n",
      "dtype: float32\n",
      "arma 0.0\n",
      "cigarro        0.205684\n",
      "narguile       0.226911\n",
      "fumar          0.216100\n",
      "tragar         0.225093\n",
      "tabaco         0.163891\n",
      "nicotina       0.192966\n",
      "vaporizador    0.182025\n",
      "ervas          0.185856\n",
      "dtype: float32\n",
      "cigarro 0.5\n",
      "sexo            0.195547\n",
      "prostituta      0.225428\n",
      "fetiche         0.213191\n",
      "cache           0.169141\n",
      "acompanhante    0.221100\n",
      "programa        0.185064\n",
      "seios           0.216384\n",
      "bunda           0.221241\n",
      "travesti        0.224739\n",
      "gostosa         0.283087\n",
      "dtype: float32\n",
      "prostituição 0.7\n",
      "remédio        0.207050\n",
      "aborto         0.182920\n",
      "comprimido     0.194882\n",
      "secundários    0.145088\n",
      "efeitos        0.172133\n",
      "dtype: float32\n",
      "remedios proibidos 0.2\n",
      "operadora     0.182025\n",
      "cabo          0.134444\n",
      "assinatura    0.154250\n",
      "liberação     0.169756\n",
      "sem           0.224709\n",
      "aparelhos     0.179068\n",
      "net           0.148843\n",
      "vivo          0.187452\n",
      "dtype: float32\n",
      "serviços ilegais 0.125\n"
     ]
    },
    {
     "data": {
      "text/plain": [
       "{'arma': False,\n",
       " 'cigarro': True,\n",
       " 'prostituição': True,\n",
       " 'remedios proibidos': False,\n",
       " 'serviços ilegais': False}"
      ]
     },
     "execution_count": 169,
     "metadata": {},
     "output_type": "execute_result"
    }
   ],
   "source": [
    "cls.classify(\"https://www.photoacompanhantes.com/\", kws, labels)"
   ]
  },
  {
   "cell_type": "code",
   "execution_count": 170,
   "metadata": {
    "ExecuteTime": {
     "end_time": "2018-11-04T22:56:28.477859Z",
     "start_time": "2018-11-04T22:56:11.975126Z"
    }
   },
   "outputs": [
    {
     "name": "stderr",
     "output_type": "stream",
     "text": [
      "/home/larissa/anaconda3/lib/python3.6/site-packages/ipykernel/__main__.py:31: DeprecationWarning: Call to deprecated `wv` (Attribute will be removed in 4.0.0, use self instead).\n",
      "/home/larissa/anaconda3/lib/python3.6/site-packages/gensim/matutils.py:737: FutureWarning: Conversion of the second argument of issubdtype from `int` to `np.signedinteger` is deprecated. In future, it will be treated as `np.int64 == np.dtype(int).type`.\n",
      "  if np.issubdtype(vec.dtype, np.int):\n"
     ]
    },
    {
     "name": "stdout",
     "output_type": "stream",
     "text": [
      "arma          0.159080\n",
      "munição       0.163765\n",
      "calibre       0.147237\n",
      "revólver      0.155631\n",
      "cano          0.132529\n",
      "carabina      0.133942\n",
      "espingarda    0.140811\n",
      "dtype: float32\n",
      "arma 0.0\n",
      "cigarro        0.179042\n",
      "narguile       0.202099\n",
      "fumar          0.188617\n",
      "tragar         0.207189\n",
      "tabaco         0.156194\n",
      "nicotina       0.169515\n",
      "vaporizador    0.158430\n",
      "ervas          0.164858\n",
      "dtype: float32\n",
      "cigarro 0.25\n",
      "sexo            0.187417\n",
      "prostituta      0.183996\n",
      "fetiche         0.186213\n",
      "cache           0.174024\n",
      "acompanhante    0.205391\n",
      "programa        0.193971\n",
      "seios           0.175544\n",
      "bunda           0.170670\n",
      "travesti        0.196618\n",
      "gostosa         0.216442\n",
      "dtype: float32\n",
      "prostituição 0.2\n",
      "remédio        0.173246\n",
      "aborto         0.178729\n",
      "comprimido     0.172596\n",
      "secundários    0.152415\n",
      "efeitos        0.163530\n",
      "dtype: float32\n",
      "remedios proibidos 0.0\n",
      "operadora     0.195578\n",
      "cabo          0.142647\n",
      "assinatura    0.168243\n",
      "liberação     0.176178\n",
      "sem           0.224653\n",
      "aparelhos     0.184020\n",
      "net           0.162251\n",
      "vivo          0.180714\n",
      "dtype: float32\n",
      "serviços ilegais 0.125\n"
     ]
    },
    {
     "data": {
      "text/plain": [
       "{'arma': False,\n",
       " 'cigarro': False,\n",
       " 'prostituição': False,\n",
       " 'remedios proibidos': False,\n",
       " 'serviços ilegais': False}"
      ]
     },
     "execution_count": 170,
     "metadata": {},
     "output_type": "execute_result"
    }
   ],
   "source": [
    "cls.classify(\"https://garotacomlocal.com/\", kws, labels)"
   ]
  },
  {
   "cell_type": "code",
   "execution_count": 171,
   "metadata": {
    "ExecuteTime": {
     "end_time": "2018-11-04T22:56:58.587110Z",
     "start_time": "2018-11-04T22:56:28.479251Z"
    }
   },
   "outputs": [
    {
     "name": "stderr",
     "output_type": "stream",
     "text": [
      "/home/larissa/anaconda3/lib/python3.6/site-packages/ipykernel/__main__.py:31: DeprecationWarning: Call to deprecated `wv` (Attribute will be removed in 4.0.0, use self instead).\n",
      "/home/larissa/anaconda3/lib/python3.6/site-packages/gensim/matutils.py:737: FutureWarning: Conversion of the second argument of issubdtype from `int` to `np.signedinteger` is deprecated. In future, it will be treated as `np.int64 == np.dtype(int).type`.\n",
      "  if np.issubdtype(vec.dtype, np.int):\n"
     ]
    },
    {
     "name": "stdout",
     "output_type": "stream",
     "text": [
      "arma          0.156135\n",
      "munição       0.161215\n",
      "calibre       0.139249\n",
      "revólver      0.149096\n",
      "cano          0.139225\n",
      "carabina      0.138947\n",
      "espingarda    0.141058\n",
      "dtype: float32\n",
      "arma 0.0\n",
      "cigarro        0.165163\n",
      "narguile       0.173357\n",
      "fumar          0.174421\n",
      "tragar         0.174184\n",
      "tabaco         0.151072\n",
      "nicotina       0.152970\n",
      "vaporizador    0.154076\n",
      "ervas          0.139252\n",
      "dtype: float32\n",
      "cigarro 0.0\n",
      "sexo            0.153795\n",
      "prostituta      0.170741\n",
      "fetiche         0.148657\n",
      "cache           0.167679\n",
      "acompanhante    0.191994\n",
      "programa        0.192505\n",
      "seios           0.147959\n",
      "bunda           0.155581\n",
      "travesti        0.172277\n",
      "gostosa         0.194487\n",
      "dtype: float32\n",
      "prostituição 0.0\n",
      "remédio        0.155697\n",
      "aborto         0.164171\n",
      "comprimido     0.169827\n",
      "secundários    0.141057\n",
      "efeitos        0.157096\n",
      "dtype: float32\n",
      "remedios proibidos 0.0\n",
      "operadora     0.188633\n",
      "cabo          0.144580\n",
      "assinatura    0.174625\n",
      "liberação     0.171674\n",
      "sem           0.200773\n",
      "aparelhos     0.168622\n",
      "net           0.163898\n",
      "vivo          0.193313\n",
      "dtype: float32\n",
      "serviços ilegais 0.125\n"
     ]
    },
    {
     "data": {
      "text/plain": [
       "{'arma': False,\n",
       " 'cigarro': False,\n",
       " 'prostituição': False,\n",
       " 'remedios proibidos': False,\n",
       " 'serviços ilegais': False}"
      ]
     },
     "execution_count": 171,
     "metadata": {},
     "output_type": "execute_result"
    }
   ],
   "source": [
    "cls.classify(\"https://www.oskaras.com/cytotec/\", kws, labels)"
   ]
  },
  {
   "cell_type": "code",
   "execution_count": 172,
   "metadata": {
    "ExecuteTime": {
     "end_time": "2018-11-04T22:57:02.234716Z",
     "start_time": "2018-11-04T22:56:58.588279Z"
    }
   },
   "outputs": [
    {
     "name": "stderr",
     "output_type": "stream",
     "text": [
      "/home/larissa/anaconda3/lib/python3.6/site-packages/ipykernel/__main__.py:31: DeprecationWarning: Call to deprecated `wv` (Attribute will be removed in 4.0.0, use self instead).\n",
      "/home/larissa/anaconda3/lib/python3.6/site-packages/gensim/matutils.py:737: FutureWarning: Conversion of the second argument of issubdtype from `int` to `np.signedinteger` is deprecated. In future, it will be treated as `np.int64 == np.dtype(int).type`.\n",
      "  if np.issubdtype(vec.dtype, np.int):\n"
     ]
    },
    {
     "name": "stdout",
     "output_type": "stream",
     "text": [
      "arma          0.175491\n",
      "munição       0.188871\n",
      "calibre       0.165555\n",
      "revólver      0.163653\n",
      "cano          0.146549\n",
      "carabina      0.139545\n",
      "espingarda    0.161846\n",
      "dtype: float32\n",
      "arma 0.0\n",
      "cigarro        0.182682\n",
      "narguile       0.191522\n",
      "fumar          0.187680\n",
      "tragar         0.207671\n",
      "tabaco         0.164720\n",
      "nicotina       0.190687\n",
      "vaporizador    0.188993\n",
      "ervas          0.151215\n",
      "dtype: float32\n",
      "cigarro 0.125\n",
      "sexo            0.166769\n",
      "prostituta      0.153627\n",
      "fetiche         0.162840\n",
      "cache           0.201256\n",
      "acompanhante    0.191836\n",
      "programa        0.210065\n",
      "seios           0.159247\n",
      "bunda           0.145613\n",
      "travesti        0.166841\n",
      "gostosa         0.177032\n",
      "dtype: float32\n",
      "prostituição 0.2\n",
      "remédio        0.177598\n",
      "aborto         0.177672\n",
      "comprimido     0.224114\n",
      "secundários    0.158619\n",
      "efeitos        0.184305\n",
      "dtype: float32\n",
      "remedios proibidos 0.2\n",
      "operadora     0.243432\n",
      "cabo          0.165081\n",
      "assinatura    0.197873\n",
      "liberação     0.208543\n",
      "sem           0.227901\n",
      "aparelhos     0.213462\n",
      "net           0.188220\n",
      "vivo          0.180561\n",
      "dtype: float32\n",
      "serviços ilegais 0.5\n"
     ]
    },
    {
     "data": {
      "text/plain": [
       "{'arma': False,\n",
       " 'cigarro': False,\n",
       " 'prostituição': False,\n",
       " 'remedios proibidos': False,\n",
       " 'serviços ilegais': True}"
      ]
     },
     "execution_count": 172,
     "metadata": {},
     "output_type": "execute_result"
    }
   ],
   "source": [
    "cls.classify(\"http://www.cscentralvip.com/\", kws, labels)"
   ]
  },
  {
   "cell_type": "code",
   "execution_count": 145,
   "metadata": {
    "ExecuteTime": {
     "end_time": "2018-11-04T21:22:17.192194Z",
     "start_time": "2018-11-04T21:22:16.498122Z"
    }
   },
   "outputs": [
    {
     "name": "stderr",
     "output_type": "stream",
     "text": [
      "/home/larissa/anaconda3/lib/python3.6/site-packages/ipykernel/__main__.py:31: DeprecationWarning: Call to deprecated `wv` (Attribute will be removed in 4.0.0, use self instead).\n"
     ]
    },
    {
     "ename": "IndexError",
     "evalue": "string index out of range",
     "output_type": "error",
     "traceback": [
      "\u001b[0;31m---------------------------------------------------------------------------\u001b[0m",
      "\u001b[0;31mIndexError\u001b[0m                                Traceback (most recent call last)",
      "\u001b[0;32m<ipython-input-145-cd0540308d2e>\u001b[0m in \u001b[0;36m<module>\u001b[0;34m()\u001b[0m\n\u001b[0;32m----> 1\u001b[0;31m \u001b[0mcls\u001b[0m\u001b[0;34m.\u001b[0m\u001b[0mclassify\u001b[0m\u001b[0;34m(\u001b[0m\u001b[0;34m\"https://www.brasiltatica.com.br/\"\u001b[0m\u001b[0;34m,\u001b[0m \u001b[0mkws\u001b[0m\u001b[0;34m,\u001b[0m \u001b[0mlabels\u001b[0m\u001b[0;34m)\u001b[0m\u001b[0;34m\u001b[0m\u001b[0m\n\u001b[0m",
      "\u001b[0;32m<ipython-input-14-87955a2e0e5e>\u001b[0m in \u001b[0;36mclassify\u001b[0;34m(self, url, kws, labels, dist_thresh, kws_thresh)\u001b[0m\n\u001b[1;32m     34\u001b[0m         \u001b[0mkws\u001b[0m \u001b[0;34m=\u001b[0m \u001b[0mself\u001b[0m\u001b[0;34m.\u001b[0m\u001b[0mrm_unseen\u001b[0m\u001b[0;34m(\u001b[0m\u001b[0mkws\u001b[0m\u001b[0;34m)\u001b[0m\u001b[0;34m\u001b[0m\u001b[0m\n\u001b[1;32m     35\u001b[0m \u001b[0;34m\u001b[0m\u001b[0m\n\u001b[0;32m---> 36\u001b[0;31m         \u001b[0mwords\u001b[0m \u001b[0;34m=\u001b[0m \u001b[0mself\u001b[0m\u001b[0;34m.\u001b[0m\u001b[0mparser\u001b[0m\u001b[0;34m.\u001b[0m\u001b[0mparse\u001b[0m\u001b[0;34m(\u001b[0m\u001b[0murl\u001b[0m\u001b[0;34m)\u001b[0m\u001b[0;34m\u001b[0m\u001b[0m\n\u001b[0m\u001b[1;32m     37\u001b[0m         \u001b[0mwords\u001b[0m \u001b[0;34m=\u001b[0m \u001b[0mself\u001b[0m\u001b[0;34m.\u001b[0m\u001b[0mrm_unseen\u001b[0m\u001b[0;34m(\u001b[0m\u001b[0mwords\u001b[0m\u001b[0;34m)\u001b[0m\u001b[0;34m\u001b[0m\u001b[0m\n\u001b[1;32m     38\u001b[0m         \u001b[0;32mfor\u001b[0m \u001b[0mlabel\u001b[0m \u001b[0;32min\u001b[0m \u001b[0mlabels\u001b[0m\u001b[0;34m:\u001b[0m\u001b[0;34m\u001b[0m\u001b[0m\n",
      "\u001b[0;32m/home/larissa/Documents/Books2018/Mac5853/parser.py\u001b[0m in \u001b[0;36mparse\u001b[0;34m(self, url)\u001b[0m\n\u001b[1;32m    114\u001b[0m \u001b[0;34m\u001b[0m\u001b[0m\n\u001b[1;32m    115\u001b[0m     \u001b[0;32mdef\u001b[0m \u001b[0mparse\u001b[0m\u001b[0;34m(\u001b[0m\u001b[0mself\u001b[0m\u001b[0;34m,\u001b[0m \u001b[0murl\u001b[0m\u001b[0;34m)\u001b[0m\u001b[0;34m:\u001b[0m\u001b[0;34m\u001b[0m\u001b[0m\n\u001b[0;32m--> 116\u001b[0;31m         \u001b[0mtext\u001b[0m \u001b[0;34m=\u001b[0m \u001b[0;34m[\u001b[0m\u001b[0mself\u001b[0m\u001b[0;34m.\u001b[0m\u001b[0mtext_from_web\u001b[0m\u001b[0;34m(\u001b[0m\u001b[0murl\u001b[0m\u001b[0;34m)\u001b[0m\u001b[0;34m]\u001b[0m \u001b[0;34m+\u001b[0m \u001b[0;34m[\u001b[0m\u001b[0mself\u001b[0m\u001b[0;34m.\u001b[0m\u001b[0mtext_from_web\u001b[0m\u001b[0;34m(\u001b[0m\u001b[0mlink\u001b[0m\u001b[0;34m)\u001b[0m \u001b[0;32mfor\u001b[0m \u001b[0mlink\u001b[0m \u001b[0;32min\u001b[0m \u001b[0mself\u001b[0m\u001b[0;34m.\u001b[0m\u001b[0mcrawler\u001b[0m\u001b[0;34m(\u001b[0m\u001b[0murl\u001b[0m\u001b[0;34m)\u001b[0m\u001b[0;34m]\u001b[0m\u001b[0;34m\u001b[0m\u001b[0m\n\u001b[0m\u001b[1;32m    117\u001b[0m         \u001b[0mtext\u001b[0m \u001b[0;34m=\u001b[0m \u001b[0msum\u001b[0m\u001b[0;34m(\u001b[0m\u001b[0;34m[\u001b[0m\u001b[0msentences\u001b[0m\u001b[0;34m.\u001b[0m\u001b[0msplit\u001b[0m\u001b[0;34m(\u001b[0m\u001b[0;34m'\\n'\u001b[0m\u001b[0;34m)\u001b[0m \u001b[0;32mfor\u001b[0m \u001b[0msentences\u001b[0m \u001b[0;32min\u001b[0m \u001b[0mtext\u001b[0m\u001b[0;34m]\u001b[0m\u001b[0;34m,\u001b[0m \u001b[0;34m[\u001b[0m\u001b[0;34m]\u001b[0m\u001b[0;34m)\u001b[0m\u001b[0;34m\u001b[0m\u001b[0m\n\u001b[1;32m    118\u001b[0m \u001b[0;34m\u001b[0m\u001b[0m\n",
      "\u001b[0;32m/home/larissa/Documents/Books2018/Mac5853/parser.py\u001b[0m in \u001b[0;36mcrawler\u001b[0;34m(self, url, limit)\u001b[0m\n\u001b[1;32m    100\u001b[0m         \u001b[0;32mfor\u001b[0m \u001b[0mi\u001b[0m\u001b[0;34m,\u001b[0m \u001b[0mlink\u001b[0m \u001b[0;32min\u001b[0m \u001b[0menumerate\u001b[0m\u001b[0;34m(\u001b[0m\u001b[0mpossible_links\u001b[0m\u001b[0;34m)\u001b[0m\u001b[0;34m:\u001b[0m\u001b[0;34m\u001b[0m\u001b[0m\n\u001b[1;32m    101\u001b[0m             \u001b[0mlink_url\u001b[0m \u001b[0;34m=\u001b[0m \u001b[0mlink\u001b[0m\u001b[0;34m.\u001b[0m\u001b[0mget\u001b[0m\u001b[0;34m(\u001b[0m\u001b[0;34m'href'\u001b[0m\u001b[0;34m)\u001b[0m\u001b[0;34m\u001b[0m\u001b[0m\n\u001b[0;32m--> 102\u001b[0;31m             \u001b[0;32mif\u001b[0m \u001b[0mlink_url\u001b[0m\u001b[0;34m[\u001b[0m\u001b[0;36m0\u001b[0m\u001b[0;34m]\u001b[0m \u001b[0;34m==\u001b[0m \u001b[0;34m'/'\u001b[0m\u001b[0;34m:\u001b[0m\u001b[0;34m\u001b[0m\u001b[0m\n\u001b[0m\u001b[1;32m    103\u001b[0m                 \u001b[0mlinks\u001b[0m \u001b[0;34m+=\u001b[0m \u001b[0;34m[\u001b[0m\u001b[0murl\u001b[0m\u001b[0;34m[\u001b[0m\u001b[0;34m:\u001b[0m\u001b[0;34m-\u001b[0m\u001b[0;36m1\u001b[0m\u001b[0;34m]\u001b[0m \u001b[0;34m+\u001b[0m \u001b[0mlink_url\u001b[0m\u001b[0;34m]\u001b[0m\u001b[0;34m\u001b[0m\u001b[0m\n\u001b[1;32m    104\u001b[0m             \u001b[0;32melif\u001b[0m \u001b[0;34m'https'\u001b[0m \u001b[0;32min\u001b[0m \u001b[0mlink_url\u001b[0m\u001b[0;34m:\u001b[0m\u001b[0;34m\u001b[0m\u001b[0m\n",
      "\u001b[0;31mIndexError\u001b[0m: string index out of range"
     ]
    }
   ],
   "source": [
    "cls.classify(\"https://www.brasiltatica.com.br/\", kws, labels)"
   ]
  },
  {
   "cell_type": "code",
   "execution_count": 74,
   "metadata": {
    "ExecuteTime": {
     "end_time": "2018-11-04T17:48:19.493466Z",
     "start_time": "2018-11-04T17:48:19.482628Z"
    }
   },
   "outputs": [
    {
     "name": "stderr",
     "output_type": "stream",
     "text": [
      "/home/larissa/anaconda3/lib/python3.6/site-packages/gensim/matutils.py:737: FutureWarning: Conversion of the second argument of issubdtype from `int` to `np.signedinteger` is deprecated. In future, it will be treated as `np.int64 == np.dtype(int).type`.\n",
      "  if np.issubdtype(vec.dtype, np.int):\n"
     ]
    },
    {
     "ename": "TypeError",
     "evalue": "assertTrue() missing 1 required positional argument: 'expr'",
     "output_type": "error",
     "traceback": [
      "\u001b[0;31m---------------------------------------------------------------------------\u001b[0m",
      "\u001b[0;31mTypeError\u001b[0m                                 Traceback (most recent call last)",
      "\u001b[0;32m<ipython-input-74-6c5370e376cd>\u001b[0m in \u001b[0;36m<module>\u001b[0;34m()\u001b[0m\n\u001b[1;32m      1\u001b[0m \u001b[0mcls\u001b[0m\u001b[0;34m.\u001b[0m\u001b[0mcalc_dists\u001b[0m\u001b[0;34m(\u001b[0m\u001b[0;34m'arma'\u001b[0m\u001b[0;34m,\u001b[0m \u001b[0;34m[\u001b[0m\u001b[0;34m'munição'\u001b[0m\u001b[0;34m,\u001b[0m \u001b[0;34m'pistola'\u001b[0m\u001b[0;34m,\u001b[0m \u001b[0;34m'espingarda'\u001b[0m\u001b[0;34m]\u001b[0m\u001b[0;34m)\u001b[0m\u001b[0;34m\u001b[0m\u001b[0m\n\u001b[0;32m----> 2\u001b[0;31m \u001b[0mut\u001b[0m\u001b[0;34m.\u001b[0m\u001b[0mTestCase\u001b[0m\u001b[0;34m.\u001b[0m\u001b[0massertTrue\u001b[0m\u001b[0;34m(\u001b[0m\u001b[0;34m(\u001b[0m\u001b[0mcls\u001b[0m\u001b[0;34m.\u001b[0m\u001b[0mcalc_dists\u001b[0m\u001b[0;34m(\u001b[0m\u001b[0;34m'arma'\u001b[0m\u001b[0;34m,\u001b[0m \u001b[0;34m[\u001b[0m\u001b[0;34m'munição'\u001b[0m\u001b[0;34m,\u001b[0m \u001b[0;34m'pistola'\u001b[0m\u001b[0;34m,\u001b[0m \u001b[0;34m'espingarda'\u001b[0m\u001b[0;34m]\u001b[0m\u001b[0;34m)\u001b[0m \u001b[0;34m==\u001b[0m \u001b[0mnp\u001b[0m\u001b[0;34m.\u001b[0m\u001b[0marray\u001b[0m\u001b[0;34m(\u001b[0m\u001b[0;34m[\u001b[0m\u001b[0;36m0.677431\u001b[0m  \u001b[0;34m,\u001b[0m \u001b[0;36m0.6866069\u001b[0m \u001b[0;34m,\u001b[0m \u001b[0;36m0.71047467\u001b[0m\u001b[0;34m]\u001b[0m\u001b[0;34m)\u001b[0m\u001b[0;34m)\u001b[0m\u001b[0;34m.\u001b[0m\u001b[0mall\u001b[0m\u001b[0;34m(\u001b[0m\u001b[0;34m)\u001b[0m\u001b[0;34m)\u001b[0m\u001b[0;34m\u001b[0m\u001b[0m\n\u001b[0m",
      "\u001b[0;31mTypeError\u001b[0m: assertTrue() missing 1 required positional argument: 'expr'"
     ]
    }
   ],
   "source": [
    "cls.calc_dists('arma', ['munição', 'pistola', 'espingarda'])\n",
    "ut.TestCase.assertTrue((cls.calc_dists('arma', ['munição', 'pistola', 'espingarda']) == np.array([0.677431  , 0.6866069 , 0.71047467])).all())"
   ]
  },
  {
   "cell_type": "code",
   "execution_count": 47,
   "metadata": {
    "ExecuteTime": {
     "end_time": "2018-11-04T16:47:57.026801Z",
     "start_time": "2018-11-04T16:45:53.031098Z"
    }
   },
   "outputs": [
    {
     "ename": "KeyboardInterrupt",
     "evalue": "",
     "output_type": "error",
     "traceback": [
      "\u001b[0;31m---------------------------------------------------------------------------\u001b[0m",
      "\u001b[0;31mKeyboardInterrupt\u001b[0m                         Traceback (most recent call last)",
      "\u001b[0;32m<ipython-input-47-63fc86095f87>\u001b[0m in \u001b[0;36m<module>\u001b[0;34m()\u001b[0m\n\u001b[1;32m      1\u001b[0m \u001b[0;32mimport\u001b[0m \u001b[0munittest\u001b[0m \u001b[0;32mas\u001b[0m \u001b[0mut\u001b[0m\u001b[0;34m\u001b[0m\u001b[0m\n\u001b[0;32m----> 2\u001b[0;31m \u001b[0;32mclass\u001b[0m \u001b[0mTestClassifier\u001b[0m\u001b[0;34m(\u001b[0m\u001b[0mut\u001b[0m\u001b[0;34m.\u001b[0m\u001b[0mTestCase\u001b[0m\u001b[0;34m)\u001b[0m\u001b[0;34m:\u001b[0m\u001b[0;34m\u001b[0m\u001b[0m\n\u001b[0m\u001b[1;32m      3\u001b[0m     \u001b[0mclassifier\u001b[0m \u001b[0;34m=\u001b[0m  \u001b[0mClassifier\u001b[0m\u001b[0;34m(\u001b[0m\u001b[0;34m)\u001b[0m\u001b[0;34m\u001b[0m\u001b[0m\n\u001b[1;32m      4\u001b[0m     \u001b[0mword\u001b[0m \u001b[0;34m=\u001b[0m \u001b[0;34m[\u001b[0m\u001b[0;34m'hahsbaja'\u001b[0m\u001b[0;34m,\u001b[0m \u001b[0;34m'casa'\u001b[0m\u001b[0;34m,\u001b[0m \u001b[0;34m'arma'\u001b[0m\u001b[0;34m]\u001b[0m\u001b[0;34m\u001b[0m\u001b[0m\n\u001b[1;32m      5\u001b[0m \u001b[0;34m\u001b[0m\u001b[0m\n",
      "\u001b[0;32m<ipython-input-47-63fc86095f87>\u001b[0m in \u001b[0;36mTestClassifier\u001b[0;34m()\u001b[0m\n\u001b[1;32m      1\u001b[0m \u001b[0;32mimport\u001b[0m \u001b[0munittest\u001b[0m \u001b[0;32mas\u001b[0m \u001b[0mut\u001b[0m\u001b[0;34m\u001b[0m\u001b[0m\n\u001b[1;32m      2\u001b[0m \u001b[0;32mclass\u001b[0m \u001b[0mTestClassifier\u001b[0m\u001b[0;34m(\u001b[0m\u001b[0mut\u001b[0m\u001b[0;34m.\u001b[0m\u001b[0mTestCase\u001b[0m\u001b[0;34m)\u001b[0m\u001b[0;34m:\u001b[0m\u001b[0;34m\u001b[0m\u001b[0m\n\u001b[0;32m----> 3\u001b[0;31m     \u001b[0mclassifier\u001b[0m \u001b[0;34m=\u001b[0m  \u001b[0mClassifier\u001b[0m\u001b[0;34m(\u001b[0m\u001b[0;34m)\u001b[0m\u001b[0;34m\u001b[0m\u001b[0m\n\u001b[0m\u001b[1;32m      4\u001b[0m     \u001b[0mword\u001b[0m \u001b[0;34m=\u001b[0m \u001b[0;34m[\u001b[0m\u001b[0;34m'hahsbaja'\u001b[0m\u001b[0;34m,\u001b[0m \u001b[0;34m'casa'\u001b[0m\u001b[0;34m,\u001b[0m \u001b[0;34m'arma'\u001b[0m\u001b[0;34m]\u001b[0m\u001b[0;34m\u001b[0m\u001b[0m\n\u001b[1;32m      5\u001b[0m \u001b[0;34m\u001b[0m\u001b[0m\n",
      "\u001b[0;32m<ipython-input-14-87955a2e0e5e>\u001b[0m in \u001b[0;36m__init__\u001b[0;34m(self, model)\u001b[0m\n\u001b[1;32m      7\u001b[0m         \u001b[0mself\u001b[0m\u001b[0;34m.\u001b[0m\u001b[0mparser\u001b[0m \u001b[0;34m=\u001b[0m \u001b[0mParser\u001b[0m\u001b[0;34m(\u001b[0m\u001b[0;34m)\u001b[0m\u001b[0;34m\u001b[0m\u001b[0m\n\u001b[1;32m      8\u001b[0m         \u001b[0;32mif\u001b[0m \u001b[0mmodel\u001b[0m \u001b[0;32mis\u001b[0m \u001b[0;32mNone\u001b[0m\u001b[0;34m:\u001b[0m\u001b[0;34m\u001b[0m\u001b[0m\n\u001b[0;32m----> 9\u001b[0;31m             \u001b[0mself\u001b[0m\u001b[0;34m.\u001b[0m\u001b[0mmodel\u001b[0m \u001b[0;34m=\u001b[0m \u001b[0mKeyedVectors\u001b[0m\u001b[0;34m.\u001b[0m\u001b[0mload_word2vec_format\u001b[0m\u001b[0;34m(\u001b[0m\u001b[0;34m'wiki.pt/wiki.pt.vec'\u001b[0m\u001b[0;34m)\u001b[0m\u001b[0;34m\u001b[0m\u001b[0m\n\u001b[0m\u001b[1;32m     10\u001b[0m         \u001b[0;32melse\u001b[0m\u001b[0;34m:\u001b[0m\u001b[0;34m\u001b[0m\u001b[0m\n\u001b[1;32m     11\u001b[0m             \u001b[0mself\u001b[0m\u001b[0;34m.\u001b[0m\u001b[0mmodel\u001b[0m \u001b[0;34m=\u001b[0m \u001b[0mmodel\u001b[0m\u001b[0;34m\u001b[0m\u001b[0m\n",
      "\u001b[0;32m/home/larissa/anaconda3/lib/python3.6/site-packages/gensim/models/keyedvectors.py\u001b[0m in \u001b[0;36mload_word2vec_format\u001b[0;34m(cls, fname, fvocab, binary, encoding, unicode_errors, limit, datatype)\u001b[0m\n\u001b[1;32m   1436\u001b[0m         return _load_word2vec_format(\n\u001b[1;32m   1437\u001b[0m             \u001b[0mcls\u001b[0m\u001b[0;34m,\u001b[0m \u001b[0mfname\u001b[0m\u001b[0;34m,\u001b[0m \u001b[0mfvocab\u001b[0m\u001b[0;34m=\u001b[0m\u001b[0mfvocab\u001b[0m\u001b[0;34m,\u001b[0m \u001b[0mbinary\u001b[0m\u001b[0;34m=\u001b[0m\u001b[0mbinary\u001b[0m\u001b[0;34m,\u001b[0m \u001b[0mencoding\u001b[0m\u001b[0;34m=\u001b[0m\u001b[0mencoding\u001b[0m\u001b[0;34m,\u001b[0m \u001b[0municode_errors\u001b[0m\u001b[0;34m=\u001b[0m\u001b[0municode_errors\u001b[0m\u001b[0;34m,\u001b[0m\u001b[0;34m\u001b[0m\u001b[0m\n\u001b[0;32m-> 1438\u001b[0;31m             limit=limit, datatype=datatype)\n\u001b[0m\u001b[1;32m   1439\u001b[0m \u001b[0;34m\u001b[0m\u001b[0m\n\u001b[1;32m   1440\u001b[0m     \u001b[0;32mdef\u001b[0m \u001b[0mget_keras_embedding\u001b[0m\u001b[0;34m(\u001b[0m\u001b[0mself\u001b[0m\u001b[0;34m,\u001b[0m \u001b[0mtrain_embeddings\u001b[0m\u001b[0;34m=\u001b[0m\u001b[0;32mFalse\u001b[0m\u001b[0;34m)\u001b[0m\u001b[0;34m:\u001b[0m\u001b[0;34m\u001b[0m\u001b[0m\n",
      "\u001b[0;32m/home/larissa/anaconda3/lib/python3.6/site-packages/gensim/models/utils_any2vec.py\u001b[0m in \u001b[0;36m_load_word2vec_format\u001b[0;34m(cls, fname, fvocab, binary, encoding, unicode_errors, limit, datatype)\u001b[0m\n\u001b[1;32m    220\u001b[0m                 \u001b[0;32mif\u001b[0m \u001b[0mlen\u001b[0m\u001b[0;34m(\u001b[0m\u001b[0mparts\u001b[0m\u001b[0;34m)\u001b[0m \u001b[0;34m!=\u001b[0m \u001b[0mvector_size\u001b[0m \u001b[0;34m+\u001b[0m \u001b[0;36m1\u001b[0m\u001b[0;34m:\u001b[0m\u001b[0;34m\u001b[0m\u001b[0m\n\u001b[1;32m    221\u001b[0m                     \u001b[0;32mraise\u001b[0m \u001b[0mValueError\u001b[0m\u001b[0;34m(\u001b[0m\u001b[0;34m\"invalid vector on line %s (is this really the text format?)\"\u001b[0m \u001b[0;34m%\u001b[0m \u001b[0mline_no\u001b[0m\u001b[0;34m)\u001b[0m\u001b[0;34m\u001b[0m\u001b[0m\n\u001b[0;32m--> 222\u001b[0;31m                 \u001b[0mword\u001b[0m\u001b[0;34m,\u001b[0m \u001b[0mweights\u001b[0m \u001b[0;34m=\u001b[0m \u001b[0mparts\u001b[0m\u001b[0;34m[\u001b[0m\u001b[0;36m0\u001b[0m\u001b[0;34m]\u001b[0m\u001b[0;34m,\u001b[0m \u001b[0;34m[\u001b[0m\u001b[0mdatatype\u001b[0m\u001b[0;34m(\u001b[0m\u001b[0mx\u001b[0m\u001b[0;34m)\u001b[0m \u001b[0;32mfor\u001b[0m \u001b[0mx\u001b[0m \u001b[0;32min\u001b[0m \u001b[0mparts\u001b[0m\u001b[0;34m[\u001b[0m\u001b[0;36m1\u001b[0m\u001b[0;34m:\u001b[0m\u001b[0;34m]\u001b[0m\u001b[0;34m]\u001b[0m\u001b[0;34m\u001b[0m\u001b[0m\n\u001b[0m\u001b[1;32m    223\u001b[0m                 \u001b[0madd_word\u001b[0m\u001b[0;34m(\u001b[0m\u001b[0mword\u001b[0m\u001b[0;34m,\u001b[0m \u001b[0mweights\u001b[0m\u001b[0;34m)\u001b[0m\u001b[0;34m\u001b[0m\u001b[0m\n\u001b[1;32m    224\u001b[0m     \u001b[0;32mif\u001b[0m \u001b[0mresult\u001b[0m\u001b[0;34m.\u001b[0m\u001b[0mvectors\u001b[0m\u001b[0;34m.\u001b[0m\u001b[0mshape\u001b[0m\u001b[0;34m[\u001b[0m\u001b[0;36m0\u001b[0m\u001b[0;34m]\u001b[0m \u001b[0;34m!=\u001b[0m \u001b[0mlen\u001b[0m\u001b[0;34m(\u001b[0m\u001b[0mresult\u001b[0m\u001b[0;34m.\u001b[0m\u001b[0mvocab\u001b[0m\u001b[0;34m)\u001b[0m\u001b[0;34m:\u001b[0m\u001b[0;34m\u001b[0m\u001b[0m\n",
      "\u001b[0;32m/home/larissa/anaconda3/lib/python3.6/site-packages/gensim/models/utils_any2vec.py\u001b[0m in \u001b[0;36m<listcomp>\u001b[0;34m(.0)\u001b[0m\n\u001b[1;32m    220\u001b[0m                 \u001b[0;32mif\u001b[0m \u001b[0mlen\u001b[0m\u001b[0;34m(\u001b[0m\u001b[0mparts\u001b[0m\u001b[0;34m)\u001b[0m \u001b[0;34m!=\u001b[0m \u001b[0mvector_size\u001b[0m \u001b[0;34m+\u001b[0m \u001b[0;36m1\u001b[0m\u001b[0;34m:\u001b[0m\u001b[0;34m\u001b[0m\u001b[0m\n\u001b[1;32m    221\u001b[0m                     \u001b[0;32mraise\u001b[0m \u001b[0mValueError\u001b[0m\u001b[0;34m(\u001b[0m\u001b[0;34m\"invalid vector on line %s (is this really the text format?)\"\u001b[0m \u001b[0;34m%\u001b[0m \u001b[0mline_no\u001b[0m\u001b[0;34m)\u001b[0m\u001b[0;34m\u001b[0m\u001b[0m\n\u001b[0;32m--> 222\u001b[0;31m                 \u001b[0mword\u001b[0m\u001b[0;34m,\u001b[0m \u001b[0mweights\u001b[0m \u001b[0;34m=\u001b[0m \u001b[0mparts\u001b[0m\u001b[0;34m[\u001b[0m\u001b[0;36m0\u001b[0m\u001b[0;34m]\u001b[0m\u001b[0;34m,\u001b[0m \u001b[0;34m[\u001b[0m\u001b[0mdatatype\u001b[0m\u001b[0;34m(\u001b[0m\u001b[0mx\u001b[0m\u001b[0;34m)\u001b[0m \u001b[0;32mfor\u001b[0m \u001b[0mx\u001b[0m \u001b[0;32min\u001b[0m \u001b[0mparts\u001b[0m\u001b[0;34m[\u001b[0m\u001b[0;36m1\u001b[0m\u001b[0;34m:\u001b[0m\u001b[0;34m]\u001b[0m\u001b[0;34m]\u001b[0m\u001b[0;34m\u001b[0m\u001b[0m\n\u001b[0m\u001b[1;32m    223\u001b[0m                 \u001b[0madd_word\u001b[0m\u001b[0;34m(\u001b[0m\u001b[0mword\u001b[0m\u001b[0;34m,\u001b[0m \u001b[0mweights\u001b[0m\u001b[0;34m)\u001b[0m\u001b[0;34m\u001b[0m\u001b[0m\n\u001b[1;32m    224\u001b[0m     \u001b[0;32mif\u001b[0m \u001b[0mresult\u001b[0m\u001b[0;34m.\u001b[0m\u001b[0mvectors\u001b[0m\u001b[0;34m.\u001b[0m\u001b[0mshape\u001b[0m\u001b[0;34m[\u001b[0m\u001b[0;36m0\u001b[0m\u001b[0;34m]\u001b[0m \u001b[0;34m!=\u001b[0m \u001b[0mlen\u001b[0m\u001b[0;34m(\u001b[0m\u001b[0mresult\u001b[0m\u001b[0;34m.\u001b[0m\u001b[0mvocab\u001b[0m\u001b[0;34m)\u001b[0m\u001b[0;34m:\u001b[0m\u001b[0;34m\u001b[0m\u001b[0m\n",
      "\u001b[0;31mKeyboardInterrupt\u001b[0m: "
     ]
    }
   ],
   "source": [
    "import unittest as ut\n",
    "class TestClassifier(ut.TestCase):\n",
    "    classifier =  Classifier()\n",
    "    word = ['hahsbaja', 'casa', 'arma']\n",
    "\n",
    "    def test_rm_unseen(self):\n",
    "        self.assertEqual(self.classifier.rm_unseen(self.word), ['casa', 'arma'])\n",
    "\n",
    "    def test_w2v_training(self):\n",
    "        self.assertTrue(self.classifier.model.similarity('carro', 'carreta') > 0.7)\n",
    "        self.assertTrue(self.classifier.model.similarity('pedra', 'pedreira') > 0.7)\n",
    "\n",
    "if __name__ == '__main__':\n",
    "    ut.main(argv=['first-arg-is-ignored'], exit=False)\n",
    "    "
   ]
  },
  {
   "cell_type": "code",
   "execution_count": 104,
   "metadata": {
    "ExecuteTime": {
     "end_time": "2018-11-04T19:45:42.188653Z",
     "start_time": "2018-11-04T19:45:42.102256Z"
    }
   },
   "outputs": [
    {
     "name": "stdout",
     "output_type": "stream",
     "text": [
      "Word: rosa,, Similarity: 0.61\n",
      "Word: rosabel, Similarity: 0.52\n",
      "Word: rosas, Similarity: 0.52\n",
      "Word: agujetas, Similarity: 0.51\n",
      "Word: violeta, Similarity: 0.51\n",
      "Word: branca,, Similarity: 0.49\n",
      "Word: rosado, Similarity: 0.49\n",
      "Word: geralda, Similarity: 0.49\n",
      "Word: rosaeodora, Similarity: 0.48\n",
      "Word: vosagiaca, Similarity: 0.48\n"
     ]
    },
    {
     "name": "stderr",
     "output_type": "stream",
     "text": [
      "/home/larissa/anaconda3/lib/python3.6/site-packages/gensim/matutils.py:737: FutureWarning: Conversion of the second argument of issubdtype from `int` to `np.signedinteger` is deprecated. In future, it will be treated as `np.int64 == np.dtype(int).type`.\n",
      "  if np.issubdtype(vec.dtype, np.int):\n"
     ]
    }
   ],
   "source": [
    "find_similar_to = 'rosa'\n",
    "\n",
    "for similar_word in pt_model.similar_by_word(find_similar_to):\n",
    "    print(\"Word: {0}, Similarity: {1:.2f}\".format(\n",
    "        similar_word[0], similar_word[1]\n",
    "    ))"
   ]
  },
  {
   "cell_type": "code",
   "execution_count": null,
   "metadata": {
    "collapsed": true
   },
   "outputs": [],
   "source": []
  }
 ],
 "metadata": {
  "kernelspec": {
   "display_name": "Python [conda root]",
   "language": "python",
   "name": "conda-root-py"
  },
  "language_info": {
   "codemirror_mode": {
    "name": "ipython",
    "version": 3
   },
   "file_extension": ".py",
   "mimetype": "text/x-python",
   "name": "python",
   "nbconvert_exporter": "python",
   "pygments_lexer": "ipython3",
   "version": "3.6.6"
  },
  "toc": {
   "base_numbering": 1,
   "nav_menu": {},
   "number_sections": true,
   "sideBar": true,
   "skip_h1_title": false,
   "title_cell": "Table of Contents",
   "title_sidebar": "Contents",
   "toc_cell": false,
   "toc_position": {},
   "toc_section_display": true,
   "toc_window_display": false
  }
 },
 "nbformat": 4,
 "nbformat_minor": 2
}
