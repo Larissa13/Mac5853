{
 "cells": [
  {
   "cell_type": "markdown",
   "metadata": {},
   "source": [
    "# Imports"
   ]
  },
  {
   "cell_type": "code",
   "execution_count": 21,
   "metadata": {
    "ExecuteTime": {
     "end_time": "2018-11-02T19:13:32.359931Z",
     "start_time": "2018-11-02T19:13:30.649641Z"
    }
   },
   "outputs": [],
   "source": [
    "from gensim.models import KeyedVectors\n",
    "from gensim.models import FastText\n",
    "from parser import Parser\n",
    "import numpy as np\n",
    "import scipy.stats as st\n",
    "import pandas as pd"
   ]
  },
  {
   "cell_type": "code",
   "execution_count": 2,
   "metadata": {
    "ExecuteTime": {
     "end_time": "2018-11-02T18:58:21.967575Z",
     "start_time": "2018-11-02T18:55:09.937122Z"
    }
   },
   "outputs": [],
   "source": [
    "pt_model = KeyedVectors.load_word2vec_format('wiki.pt/wiki.pt.vec')\n",
    "#pt_model = FastText.load_fasttext_format('wiki.pt/wiki.pt.bin')"
   ]
  },
  {
   "cell_type": "code",
   "execution_count": 3,
   "metadata": {
    "ExecuteTime": {
     "end_time": "2018-11-02T18:58:22.095451Z",
     "start_time": "2018-11-02T18:58:21.969622Z"
    }
   },
   "outputs": [],
   "source": [
    "words = []\n",
    "for word in pt_model.vocab:\n",
    "    words.append(word)"
   ]
  },
  {
   "cell_type": "code",
   "execution_count": 4,
   "metadata": {
    "ExecuteTime": {
     "end_time": "2018-11-02T18:58:22.104900Z",
     "start_time": "2018-11-02T18:58:22.100671Z"
    }
   },
   "outputs": [
    {
     "name": "stdout",
     "output_type": "stream",
     "text": [
      "Number of Tokens: 592108\n"
     ]
    }
   ],
   "source": [
    "print(\"Number of Tokens: {}\".format(len(words)))"
   ]
  },
  {
   "cell_type": "code",
   "execution_count": 5,
   "metadata": {
    "ExecuteTime": {
     "end_time": "2018-11-02T18:58:22.189152Z",
     "start_time": "2018-11-02T18:58:22.108433Z"
    }
   },
   "outputs": [
    {
     "name": "stdout",
     "output_type": "stream",
     "text": [
      "Dimension of a word vector: 300\n"
     ]
    }
   ],
   "source": [
    "print(\"Dimension of a word vector: {}\".format(\n",
    "    len(pt_model[words[0]])\n",
    "))"
   ]
  },
  {
   "cell_type": "code",
   "execution_count": 6,
   "metadata": {
    "ExecuteTime": {
     "end_time": "2018-11-02T18:58:22.303511Z",
     "start_time": "2018-11-02T18:58:22.191771Z"
    }
   },
   "outputs": [
    {
     "data": {
      "text/plain": [
       "'artes'"
      ]
     },
     "execution_count": 6,
     "metadata": {},
     "output_type": "execute_result"
    }
   ],
   "source": [
    "words[1000]"
   ]
  },
  {
   "cell_type": "code",
   "execution_count": 7,
   "metadata": {
    "ExecuteTime": {
     "end_time": "2018-11-02T18:58:22.369723Z",
     "start_time": "2018-11-02T18:58:22.306704Z"
    }
   },
   "outputs": [
    {
     "name": "stdout",
     "output_type": "stream",
     "text": [
      "Vector components of a word: [-0.04817     0.11343    -0.21973    -0.096098   -0.0053306   0.20582999\n",
      "  0.15409     0.20406    -0.010307   -0.045906   -0.019991   -0.14881\n",
      "  0.071691   -0.010353   -0.040639   -0.19217999 -0.054845   -0.099474\n",
      " -0.032876   -0.19517     0.091734   -0.1428      0.031234    0.069291\n",
      " -0.014771   -0.0059432  -0.092041   -0.11749    -0.012621   -0.037947\n",
      "  0.045571   -0.086255    0.0032468   0.038197    0.05541    -0.14173999\n",
      "  0.046568   -0.24105    -0.020556    0.075958    0.046163    0.14249\n",
      "  0.053788    0.073211   -0.020421    0.068428    0.078169    0.10405\n",
      "  0.058263   -0.22894    -0.083738    0.027697    0.060742    0.12547\n",
      "  0.018675   -0.059984    0.027855    0.12125    -0.089253    0.053595\n",
      " -0.076205   -0.11818     0.016257    0.031477   -0.080403    0.079504\n",
      " -0.24153    -0.069171    0.019415   -0.040792    0.081118   -0.072191\n",
      " -0.026516   -0.17692    -0.033728   -0.1433     -0.0073834  -0.043411\n",
      " -0.16559     0.084007   -0.043258    0.075611   -0.038506    0.10178\n",
      " -0.014164   -0.039431   -0.018892    0.10083    -0.044673   -0.066518\n",
      "  0.032729    0.12068    -0.057521   -0.086379    0.0043588  -0.025344\n",
      "  0.088528   -0.041286   -0.065288   -0.025802    0.039349   -0.025262\n",
      "  0.037309   -0.11558    -0.053951   -0.080582   -0.026138   -0.046479\n",
      " -0.088398   -0.14842001 -0.1286      0.15494999 -0.10139    -0.030474\n",
      " -0.15530001  0.070775   -0.05087     0.042252    0.0014801   0.11506\n",
      "  0.11028     0.056508    0.013842   -0.19561    -0.23001    -0.20195\n",
      " -0.1444      0.096103    0.061385    0.23004     0.0098689   0.032605\n",
      "  0.0012474  -0.094954   -0.12193    -0.065095    0.055632    0.15131\n",
      " -0.087703   -0.23105     0.16588999 -0.013872   -0.11899    -0.05481\n",
      " -0.059292    0.22415     0.090037    0.015503   -0.22465     0.14724\n",
      "  0.049563   -0.15764    -0.25737    -0.12097     0.026856    0.083712\n",
      "  0.057612   -0.025005   -0.054761   -0.052852   -0.036351    0.23492\n",
      "  0.13407999 -0.02962     0.0091596  -0.06657     0.054596   -0.21224\n",
      "  0.12287     0.18719    -0.024616   -0.018041    0.035271   -0.052453\n",
      "  0.11375    -0.043666   -0.038379    0.036934    0.13901    -0.043165\n",
      "  0.12349    -0.015798   -0.0998      0.011071    0.10684     0.26115999\n",
      " -0.035677   -0.14222001  0.065454    0.063918   -0.24371     0.14301001\n",
      "  0.14655     0.069025   -0.0070136   0.068131   -0.15322     0.063416\n",
      "  0.10631    -0.060219   -0.20615999 -0.037022    0.029551    0.043043\n",
      " -0.041476    0.23184     0.10267    -0.20437001  0.083067    0.083902\n",
      " -0.13046999  0.094373   -0.19736999 -0.0086829   0.020613   -0.10964\n",
      " -0.14177001 -0.079105   -0.14264999 -0.03605     0.00074296  0.18497001\n",
      " -0.0006953  -0.1093     -0.046246   -0.0085369  -0.048433    0.071461\n",
      " -0.061555   -0.11352     0.038517    0.16842    -0.075028   -0.058336\n",
      " -0.011346   -0.036       0.036876   -0.13032     0.15139     0.13292\n",
      " -0.0023106  -0.15693     0.055051    0.22634     0.13237    -0.18694\n",
      " -0.040085   -0.0011609  -0.0038749   0.051323   -0.0066233  -0.10312\n",
      "  0.045998   -0.0004539   0.018992    0.018173    0.14996    -0.25277999\n",
      " -0.2446      0.16529     0.051792    0.067366    0.046627    0.087862\n",
      " -0.049553   -0.019463   -0.14438     0.14509     0.19501001 -0.14119001\n",
      "  0.065484    0.028544    0.076939   -0.1182     -0.05742    -0.079319\n",
      "  0.0060654   0.029206    0.1345      0.17223001  0.28799     0.15635\n",
      " -0.0064421  -0.11777    -0.037225    0.042539    0.028578    0.10535\n",
      " -0.12373    -0.020142   -0.044818    0.36148    -0.053418    0.021741\n",
      " -0.13966     0.07219    -0.036978   -0.067736   -0.11402    -0.01373   ]\n"
     ]
    }
   ],
   "source": [
    "print(\"Vector components of a word: {}\".format(\n",
    "    pt_model[words[0]]\n",
    "))"
   ]
  },
  {
   "cell_type": "code",
   "execution_count": 8,
   "metadata": {
    "ExecuteTime": {
     "end_time": "2018-11-02T18:58:23.699425Z",
     "start_time": "2018-11-02T18:58:22.373006Z"
    }
   },
   "outputs": [
    {
     "name": "stdout",
     "output_type": "stream",
     "text": [
      "Word: carros, Similarity: 0.75\n",
      "Word: caminhão, Similarity: 0.73\n",
      "Word: automóvel, Similarity: 0.70\n",
      "Word: carroção, Similarity: 0.69\n",
      "Word: motorista, Similarity: 0.68\n",
      "Word: caminhonete, Similarity: 0.67\n",
      "Word: capotar, Similarity: 0.66\n",
      "Word: furgão, Similarity: 0.65\n",
      "Word: carroçeria, Similarity: 0.65\n",
      "Word: capotando, Similarity: 0.65\n"
     ]
    }
   ],
   "source": [
    "find_similar_to = 'carro'\n",
    "\n",
    "for similar_word in pt_model.similar_by_word(find_similar_to):\n",
    "    print(\"Word: {0}, Similarity: {1:.2f}\".format(\n",
    "        similar_word[0], similar_word[1]\n",
    "    ))"
   ]
  },
  {
   "cell_type": "code",
   "execution_count": 9,
   "metadata": {
    "ExecuteTime": {
     "end_time": "2018-11-02T18:58:23.794436Z",
     "start_time": "2018-11-02T18:58:23.701953Z"
    }
   },
   "outputs": [
    {
     "name": "stdout",
     "output_type": "stream",
     "text": [
      "Word : comer , Similarity: 0.61\n",
      "Word : beberem , Similarity: 0.60\n",
      "Word : beberdes , Similarity: 0.59\n",
      "Word : beberes , Similarity: 0.57\n",
      "Word : bebemorar , Similarity: 0.57\n",
      "Word : beberagem , Similarity: 0.56\n",
      "Word : bebem , Similarity: 0.56\n",
      "Word : bebera , Similarity: 0.56\n",
      "Word : dormirem , Similarity: 0.55\n",
      "Word : beberá , Similarity: 0.55\n"
     ]
    }
   ],
   "source": [
    "word_add = ['dormir', 'beber']\n",
    "word_sub = ['cama']\n",
    "\n",
    "\n",
    "for resultant_word in pt_model.most_similar(\n",
    "    positive=word_add, negative=word_sub\n",
    "):\n",
    "    print(\"Word : {0} , Similarity: {1:.2f}\".format(\n",
    "        resultant_word[0], resultant_word[1]\n",
    "    ))"
   ]
  },
  {
   "cell_type": "code",
   "execution_count": 10,
   "metadata": {
    "ExecuteTime": {
     "end_time": "2018-11-02T18:58:23.803307Z",
     "start_time": "2018-11-02T18:58:23.798543Z"
    }
   },
   "outputs": [],
   "source": [
    "def gkern(kernlen=5, nsig=3):\n",
    "    \"\"\"Returns a 2D Gaussian kernel array.\"\"\"\n",
    "\n",
    "    interval = (2*nsig+1.)/(kernlen)\n",
    "    x = np.linspace(-nsig-interval/2., nsig+interval/2., kernlen+1)\n",
    "    kern1d = np.diff(st.norm.cdf(x))\n",
    "    kernel_raw = np.sqrt(np.outer(kern1d, kern1d))\n",
    "    kernel = kernel_raw/kernel_raw.sum()\n",
    "    return kernel"
   ]
  },
  {
   "cell_type": "code",
   "execution_count": 83,
   "metadata": {
    "ExecuteTime": {
     "end_time": "2018-11-02T19:40:24.483502Z",
     "start_time": "2018-11-02T19:40:24.472628Z"
    }
   },
   "outputs": [],
   "source": [
    "from scipy.signal import convolve2d\n",
    "\n",
    "\n",
    "class Classifier:\n",
    "    \n",
    "    def __init__(self, model=None):\n",
    "        self.parser = Parser()\n",
    "        if model is None:\n",
    "            self.model = KeyedVectors.load_word2vec_format('wiki.pt/wiki.pt.vec')\n",
    "        else:\n",
    "            self.model = model\n",
    "    \n",
    "    def w2v(self, words):\n",
    "        pass\n",
    "    \n",
    "    def calc_var(self, words):\n",
    "            vs = np.array([self.model[word] for word in words])\n",
    "            mean = np.mean(vs, axis=0)\n",
    "            \n",
    "            return np.sum((vs - mean)**2)/vs.shape[0]\n",
    "            \n",
    "            \n",
    "    def calc_dists(self, word, kws):\n",
    "        dists = []\n",
    "        for kw in kws:\n",
    "            dists += [self.model.similarity(word, kw)]\n",
    "    \n",
    "        return np.array(dists)\n",
    "    \n",
    "    def rm_unseen(self, words):\n",
    "        return [word for word in words if word in self.model.wv.vocab] \n",
    "    \n",
    "    def classify(self, url, kws, labels, dist_thresh=0.20, kws_thresh=0.49):\n",
    "        kws = self.rm_unseen(kws)\n",
    "        \n",
    "        words = self.parser.parse(url)\n",
    "        words = self.rm_unseen(words)\n",
    "        for label in labels:\n",
    "            label.keywords = self.rm_unseen(label.keywords)\n",
    "        dists = []\n",
    "        for word in words:\n",
    "            dists += [self.calc_dists(word, kws)]\n",
    "            \n",
    "        dists = np.array(dists)\n",
    "        \n",
    "        #print(dists)\n",
    "        #dists = convolve2d(dists, gkern(), mode='same')\n",
    "        #print(dists)\n",
    "        df = pd.DataFrame(dists, columns=kws)\n",
    "        \n",
    "        result = dict()\n",
    "        for label in labels:\n",
    "            print(df[label.keywords].mean(axis=0))\n",
    "            print(label.name, (df[label.keywords].mean(axis=0) > dist_thresh).mean())\n",
    "            result[label.name] = (df[label.keywords].mean(axis=0) > dist_thresh).mean() > kws_thresh\n",
    "            \n",
    "        return result        \n",
    "        "
   ]
  },
  {
   "cell_type": "code",
   "execution_count": 84,
   "metadata": {
    "ExecuteTime": {
     "end_time": "2018-11-02T19:40:24.608653Z",
     "start_time": "2018-11-02T19:40:24.485976Z"
    }
   },
   "outputs": [],
   "source": [
    "class Label:\n",
    "    def __init__(self, name, kws):\n",
    "        self.keywords = kws\n",
    "        self.name = name"
   ]
  },
  {
   "cell_type": "code",
   "execution_count": 105,
   "metadata": {
    "ExecuteTime": {
     "end_time": "2018-11-02T20:12:54.887654Z",
     "start_time": "2018-11-02T20:12:54.877247Z"
    }
   },
   "outputs": [],
   "source": [
    "gun_keywords = ['arma', 'munição', 'preço', 'comprar']\n",
    "cigar_keywords = ['cigarro', 'vape', 'narguile', 'fumar', 'tragar',\n",
    "                  'tabaco', 'nicotina', 'vaporizador', 'preço', 'comprar']\n",
    "prost_keywords = ['sexo', 'prostituta', 'fetiche', 'cache']\n",
    "med_keywords = ['remedio', 'aborto', 'comprimido', 'comprar', 'preço']\n",
    "\n",
    "kws = gun_keywords + cigar_keywords + prost_keywords + med_keywords\n",
    "kws = list(set(kws))"
   ]
  },
  {
   "cell_type": "code",
   "execution_count": 106,
   "metadata": {
    "ExecuteTime": {
     "end_time": "2018-11-02T20:12:55.829179Z",
     "start_time": "2018-11-02T20:12:55.570160Z"
    }
   },
   "outputs": [],
   "source": [
    "gun_label = Label(\"arma\", gun_keywords)\n",
    "cigar_label = Label(\"cigarro\", cigar_keywords)\n",
    "prost_label = Label(\"prottituição\", prost_keywords)\n",
    "med_label = Label(\"remedios proibidos\", med_keywords)\n",
    "\n",
    "labels = [gun_label, cigar_label, prost_label, med_label]"
   ]
  },
  {
   "cell_type": "code",
   "execution_count": 107,
   "metadata": {
    "ExecuteTime": {
     "end_time": "2018-11-02T20:12:56.521708Z",
     "start_time": "2018-11-02T20:12:55.998096Z"
    }
   },
   "outputs": [],
   "source": [
    "cls = Classifier(model=pt_model)"
   ]
  },
  {
   "cell_type": "code",
   "execution_count": 108,
   "metadata": {
    "ExecuteTime": {
     "end_time": "2018-11-02T20:13:32.041976Z",
     "start_time": "2018-11-02T20:12:56.523610Z"
    }
   },
   "outputs": [
    {
     "name": "stderr",
     "output_type": "stream",
     "text": [
      "/home/luke/anaconda3/envs/text-rec/lib/python3.6/site-packages/ipykernel/__main__.py:31: DeprecationWarning: Call to deprecated `wv` (Attribute will be removed in 4.0.0, use self instead).\n"
     ]
    },
    {
     "name": "stdout",
     "output_type": "stream",
     "text": [
      "arma       0.253520\n",
      "munição    0.255525\n",
      "preço      0.212237\n",
      "comprar    0.203844\n",
      "dtype: float32\n",
      "arma 1.0\n",
      "cigarro        0.201608\n",
      "narguile       0.193860\n",
      "fumar          0.180427\n",
      "tragar         0.152395\n",
      "tabaco         0.175249\n",
      "nicotina       0.196549\n",
      "vaporizador    0.221791\n",
      "preço          0.212237\n",
      "comprar        0.203844\n",
      "dtype: float32\n",
      "cigarro 0.444444444444\n",
      "sexo          0.145827\n",
      "prostituta    0.151533\n",
      "fetiche       0.166576\n",
      "cache         0.189556\n",
      "dtype: float32\n",
      "prottituição 0.0\n",
      "dosagem       0.217435\n",
      "substancia    0.198227\n",
      "remedio       0.141547\n",
      "aborto        0.148929\n",
      "comprimido    0.245910\n",
      "comprar       0.203844\n",
      "preço         0.212237\n",
      "dtype: float32\n",
      "remedios proibidos 0.571428571429\n"
     ]
    },
    {
     "data": {
      "text/plain": [
       "{'arma': True,\n",
       " 'cigarro': False,\n",
       " 'prottituição': False,\n",
       " 'remedios proibidos': True}"
      ]
     },
     "execution_count": 108,
     "metadata": {},
     "output_type": "execute_result"
    }
   ],
   "source": [
    "cls.classify(\"https://www.falconarmas.com.br/\", kws, labels)"
   ]
  },
  {
   "cell_type": "code",
   "execution_count": 109,
   "metadata": {
    "ExecuteTime": {
     "end_time": "2018-11-02T20:13:48.747341Z",
     "start_time": "2018-11-02T20:13:32.047986Z"
    }
   },
   "outputs": [
    {
     "name": "stderr",
     "output_type": "stream",
     "text": [
      "/home/luke/anaconda3/envs/text-rec/lib/python3.6/site-packages/ipykernel/__main__.py:31: DeprecationWarning: Call to deprecated `wv` (Attribute will be removed in 4.0.0, use self instead).\n"
     ]
    },
    {
     "name": "stdout",
     "output_type": "stream",
     "text": [
      "arma       0.269945\n",
      "munição    0.271822\n",
      "preço      0.193490\n",
      "comprar    0.199469\n",
      "dtype: float32\n",
      "arma 0.5\n",
      "cigarro        0.193026\n",
      "narguile       0.196481\n",
      "fumar          0.186121\n",
      "tragar         0.160582\n",
      "tabaco         0.185632\n",
      "nicotina       0.198560\n",
      "vaporizador    0.205406\n",
      "preço          0.193490\n",
      "comprar        0.199469\n",
      "dtype: float32\n",
      "cigarro 0.111111111111\n",
      "sexo          0.143577\n",
      "prostituta    0.149248\n",
      "fetiche       0.164413\n",
      "cache         0.172525\n",
      "dtype: float32\n",
      "prottituição 0.0\n",
      "dosagem       0.211695\n",
      "substancia    0.210297\n",
      "remedio       0.147447\n",
      "aborto        0.161862\n",
      "comprimido    0.236990\n",
      "comprar       0.199469\n",
      "preço         0.193490\n",
      "dtype: float32\n",
      "remedios proibidos 0.428571428571\n"
     ]
    },
    {
     "data": {
      "text/plain": [
       "{'arma': False,\n",
       " 'cigarro': False,\n",
       " 'prottituição': False,\n",
       " 'remedios proibidos': False}"
      ]
     },
     "execution_count": 109,
     "metadata": {},
     "output_type": "execute_result"
    }
   ],
   "source": [
    "cls.classify(\"https://belicosarsenais.wixsite.com/armas\", kws, labels)"
   ]
  },
  {
   "cell_type": "code",
   "execution_count": 110,
   "metadata": {
    "ExecuteTime": {
     "end_time": "2018-11-02T20:14:27.998044Z",
     "start_time": "2018-11-02T20:13:48.749586Z"
    }
   },
   "outputs": [
    {
     "name": "stderr",
     "output_type": "stream",
     "text": [
      "/home/luke/anaconda3/envs/text-rec/lib/python3.6/site-packages/ipykernel/__main__.py:31: DeprecationWarning: Call to deprecated `wv` (Attribute will be removed in 4.0.0, use self instead).\n"
     ]
    },
    {
     "name": "stdout",
     "output_type": "stream",
     "text": [
      "arma       0.189346\n",
      "munição    0.188113\n",
      "preço      0.216258\n",
      "comprar    0.230047\n",
      "dtype: float32\n",
      "arma 0.5\n",
      "cigarro        0.213257\n",
      "narguile       0.204642\n",
      "fumar          0.203056\n",
      "tragar         0.204809\n",
      "tabaco         0.169380\n",
      "nicotina       0.201417\n",
      "vaporizador    0.221866\n",
      "preço          0.216258\n",
      "comprar        0.230047\n",
      "dtype: float32\n",
      "cigarro 0.888888888889\n",
      "sexo          0.159164\n",
      "prostituta    0.151398\n",
      "fetiche       0.177388\n",
      "cache         0.202935\n",
      "dtype: float32\n",
      "prottituição 0.25\n",
      "dosagem       0.203592\n",
      "substancia    0.191731\n",
      "remedio       0.146326\n",
      "aborto        0.159347\n",
      "comprimido    0.220126\n",
      "comprar       0.230047\n",
      "preço         0.216258\n",
      "dtype: float32\n",
      "remedios proibidos 0.571428571429\n"
     ]
    },
    {
     "data": {
      "text/plain": [
       "{'arma': False,\n",
       " 'cigarro': True,\n",
       " 'prottituição': False,\n",
       " 'remedios proibidos': True}"
      ]
     },
     "execution_count": 110,
     "metadata": {},
     "output_type": "execute_result"
    }
   ],
   "source": [
    "cls.classify(\"https://www.mundodovapor.com/\", kws, labels)"
   ]
  },
  {
   "cell_type": "code",
   "execution_count": 111,
   "metadata": {
    "ExecuteTime": {
     "end_time": "2018-11-02T20:15:28.123368Z",
     "start_time": "2018-11-02T20:14:28.000851Z"
    }
   },
   "outputs": [
    {
     "name": "stderr",
     "output_type": "stream",
     "text": [
      "/home/luke/anaconda3/envs/text-rec/lib/python3.6/site-packages/ipykernel/__main__.py:31: DeprecationWarning: Call to deprecated `wv` (Attribute will be removed in 4.0.0, use self instead).\n"
     ]
    },
    {
     "name": "stdout",
     "output_type": "stream",
     "text": [
      "arma       0.193336\n",
      "munição    0.197074\n",
      "preço      0.223227\n",
      "comprar    0.221696\n",
      "dtype: float32\n",
      "arma 0.5\n",
      "cigarro        0.252957\n",
      "narguile       0.204864\n",
      "fumar          0.210741\n",
      "tragar         0.167100\n",
      "tabaco         0.207222\n",
      "nicotina       0.225927\n",
      "vaporizador    0.234400\n",
      "preço          0.223227\n",
      "comprar        0.221696\n",
      "dtype: float32\n",
      "cigarro 0.888888888889\n",
      "sexo          0.149551\n",
      "prostituta    0.160125\n",
      "fetiche       0.168180\n",
      "cache         0.197216\n",
      "dtype: float32\n",
      "prottituição 0.0\n",
      "dosagem       0.209294\n",
      "substancia    0.186601\n",
      "remedio       0.149772\n",
      "aborto        0.162355\n",
      "comprimido    0.218966\n",
      "comprar       0.221696\n",
      "preço         0.223227\n",
      "dtype: float32\n",
      "remedios proibidos 0.571428571429\n"
     ]
    },
    {
     "data": {
      "text/plain": [
       "{'arma': False,\n",
       " 'cigarro': True,\n",
       " 'prottituição': False,\n",
       " 'remedios proibidos': True}"
      ]
     },
     "execution_count": 111,
     "metadata": {},
     "output_type": "execute_result"
    }
   ],
   "source": [
    "cls.classify(\"https://www.elitesmokebr.com/\", kws, labels)"
   ]
  },
  {
   "cell_type": "code",
   "execution_count": 112,
   "metadata": {
    "ExecuteTime": {
     "end_time": "2018-11-02T20:16:02.717687Z",
     "start_time": "2018-11-02T20:15:28.125776Z"
    }
   },
   "outputs": [
    {
     "name": "stderr",
     "output_type": "stream",
     "text": [
      "/home/luke/anaconda3/envs/text-rec/lib/python3.6/site-packages/ipykernel/__main__.py:31: DeprecationWarning: Call to deprecated `wv` (Attribute will be removed in 4.0.0, use self instead).\n"
     ]
    },
    {
     "name": "stdout",
     "output_type": "stream",
     "text": [
      "arma       0.194407\n",
      "munição    0.194837\n",
      "preço      0.221747\n",
      "comprar    0.230150\n",
      "dtype: float32\n",
      "arma 0.5\n",
      "cigarro        0.249540\n",
      "narguile       0.208948\n",
      "fumar          0.209445\n",
      "tragar         0.174099\n",
      "tabaco         0.201565\n",
      "nicotina       0.221553\n",
      "vaporizador    0.238757\n",
      "preço          0.221747\n",
      "comprar        0.230150\n",
      "dtype: float32\n",
      "cigarro 0.888888888889\n",
      "sexo          0.152412\n",
      "prostituta    0.162190\n",
      "fetiche       0.176345\n",
      "cache         0.199159\n",
      "dtype: float32\n",
      "prottituição 0.0\n",
      "dosagem       0.206222\n",
      "substancia    0.181896\n",
      "remedio       0.147814\n",
      "aborto        0.155128\n",
      "comprimido    0.223478\n",
      "comprar       0.230150\n",
      "preço         0.221747\n",
      "dtype: float32\n",
      "remedios proibidos 0.571428571429\n"
     ]
    },
    {
     "data": {
      "text/plain": [
       "{'arma': False,\n",
       " 'cigarro': True,\n",
       " 'prottituição': False,\n",
       " 'remedios proibidos': True}"
      ]
     },
     "execution_count": 112,
     "metadata": {},
     "output_type": "execute_result"
    }
   ],
   "source": [
    "cls.classify(\"https://www.vaporesabor.com.br/\", kws, labels)"
   ]
  },
  {
   "cell_type": "code",
   "execution_count": 113,
   "metadata": {
    "ExecuteTime": {
     "end_time": "2018-11-02T20:16:28.627910Z",
     "start_time": "2018-11-02T20:16:02.720550Z"
    }
   },
   "outputs": [
    {
     "name": "stderr",
     "output_type": "stream",
     "text": [
      "/home/luke/anaconda3/envs/text-rec/lib/python3.6/site-packages/ipykernel/__main__.py:31: DeprecationWarning: Call to deprecated `wv` (Attribute will be removed in 4.0.0, use self instead).\n"
     ]
    },
    {
     "name": "stdout",
     "output_type": "stream",
     "text": [
      "arma       0.184879\n",
      "munição    0.188843\n",
      "preço      0.223718\n",
      "comprar    0.213079\n",
      "dtype: float32\n",
      "arma 0.5\n",
      "cigarro        0.209974\n",
      "narguile       0.205318\n",
      "fumar          0.194229\n",
      "tragar         0.179364\n",
      "tabaco         0.188180\n",
      "nicotina       0.213198\n",
      "vaporizador    0.212433\n",
      "preço          0.223718\n",
      "comprar        0.213079\n",
      "dtype: float32\n",
      "cigarro 0.666666666667\n",
      "sexo          0.154939\n",
      "prostituta    0.153999\n",
      "fetiche       0.174856\n",
      "cache         0.193468\n",
      "dtype: float32\n",
      "prottituição 0.0\n",
      "dosagem       0.211069\n",
      "substancia    0.206004\n",
      "remedio       0.153022\n",
      "aborto        0.152899\n",
      "comprimido    0.219088\n",
      "comprar       0.213079\n",
      "preço         0.223718\n",
      "dtype: float32\n",
      "remedios proibidos 0.714285714286\n"
     ]
    },
    {
     "data": {
      "text/plain": [
       "{'arma': False,\n",
       " 'cigarro': True,\n",
       " 'prottituição': False,\n",
       " 'remedios proibidos': True}"
      ]
     },
     "execution_count": 113,
     "metadata": {},
     "output_type": "execute_result"
    }
   ],
   "source": [
    "cls.classify(\"https://www.queenflavor.com/\", kws, labels)"
   ]
  },
  {
   "cell_type": "code",
   "execution_count": 114,
   "metadata": {
    "ExecuteTime": {
     "end_time": "2018-11-02T20:17:00.671825Z",
     "start_time": "2018-11-02T20:16:28.630655Z"
    }
   },
   "outputs": [
    {
     "name": "stderr",
     "output_type": "stream",
     "text": [
      "/home/luke/anaconda3/envs/text-rec/lib/python3.6/site-packages/ipykernel/__main__.py:31: DeprecationWarning: Call to deprecated `wv` (Attribute will be removed in 4.0.0, use self instead).\n"
     ]
    },
    {
     "name": "stdout",
     "output_type": "stream",
     "text": [
      "arma       0.177141\n",
      "munição    0.173571\n",
      "preço      0.199720\n",
      "comprar    0.213049\n",
      "dtype: float32\n",
      "arma 0.25\n",
      "cigarro        0.204323\n",
      "narguile       0.227130\n",
      "fumar          0.214656\n",
      "tragar         0.226146\n",
      "tabaco         0.166177\n",
      "nicotina       0.190655\n",
      "vaporizador    0.182930\n",
      "preço          0.199720\n",
      "comprar        0.213049\n",
      "dtype: float32\n",
      "cigarro 0.555555555556\n",
      "sexo          0.193010\n",
      "prostituta    0.224085\n",
      "fetiche       0.210483\n",
      "cache         0.166553\n",
      "dtype: float32\n",
      "prottituição 0.5\n",
      "dosagem       0.196053\n",
      "substancia    0.182847\n",
      "remedio       0.170088\n",
      "aborto        0.180973\n",
      "comprimido    0.194651\n",
      "comprar       0.213049\n",
      "preço         0.199720\n",
      "dtype: float32\n",
      "remedios proibidos 0.142857142857\n"
     ]
    },
    {
     "data": {
      "text/plain": [
       "{'arma': False,\n",
       " 'cigarro': True,\n",
       " 'prottituição': False,\n",
       " 'remedios proibidos': False}"
      ]
     },
     "execution_count": 114,
     "metadata": {},
     "output_type": "execute_result"
    }
   ],
   "source": [
    "cls.classify(\"https://www.photoacompanhantes.com/\", kws, labels)"
   ]
  },
  {
   "cell_type": "code",
   "execution_count": 115,
   "metadata": {
    "ExecuteTime": {
     "end_time": "2018-11-02T20:17:22.396658Z",
     "start_time": "2018-11-02T20:17:00.673657Z"
    }
   },
   "outputs": [
    {
     "name": "stderr",
     "output_type": "stream",
     "text": [
      "/home/luke/anaconda3/envs/text-rec/lib/python3.6/site-packages/ipykernel/__main__.py:31: DeprecationWarning: Call to deprecated `wv` (Attribute will be removed in 4.0.0, use self instead).\n"
     ]
    },
    {
     "name": "stdout",
     "output_type": "stream",
     "text": [
      "arma       0.159080\n",
      "munição    0.163765\n",
      "preço      0.190162\n",
      "comprar    0.216096\n",
      "dtype: float32\n",
      "arma 0.25\n",
      "cigarro        0.179042\n",
      "narguile       0.202099\n",
      "fumar          0.188617\n",
      "tragar         0.207189\n",
      "tabaco         0.156194\n",
      "nicotina       0.169515\n",
      "vaporizador    0.158431\n",
      "preço          0.190162\n",
      "comprar        0.216096\n",
      "dtype: float32\n",
      "cigarro 0.333333333333\n",
      "sexo          0.187417\n",
      "prostituta    0.183996\n",
      "fetiche       0.186213\n",
      "cache         0.174024\n",
      "dtype: float32\n",
      "prottituição 0.0\n",
      "dosagem       0.170265\n",
      "substancia    0.168830\n",
      "remedio       0.147367\n",
      "aborto        0.178729\n",
      "comprimido    0.172596\n",
      "comprar       0.216096\n",
      "preço         0.190162\n",
      "dtype: float32\n",
      "remedios proibidos 0.142857142857\n"
     ]
    },
    {
     "data": {
      "text/plain": [
       "{'arma': False,\n",
       " 'cigarro': False,\n",
       " 'prottituição': False,\n",
       " 'remedios proibidos': False}"
      ]
     },
     "execution_count": 115,
     "metadata": {},
     "output_type": "execute_result"
    }
   ],
   "source": [
    "cls.classify(\"https://garotacomlocal.com/\", kws, labels)"
   ]
  },
  {
   "cell_type": "code",
   "execution_count": 116,
   "metadata": {
    "ExecuteTime": {
     "end_time": "2018-11-02T20:17:55.970930Z",
     "start_time": "2018-11-02T20:17:22.399225Z"
    }
   },
   "outputs": [
    {
     "name": "stderr",
     "output_type": "stream",
     "text": [
      "/home/luke/anaconda3/envs/text-rec/lib/python3.6/site-packages/ipykernel/__main__.py:31: DeprecationWarning: Call to deprecated `wv` (Attribute will be removed in 4.0.0, use self instead).\n"
     ]
    },
    {
     "name": "stdout",
     "output_type": "stream",
     "text": [
      "arma       0.155930\n",
      "munição    0.160920\n",
      "preço      0.176054\n",
      "comprar    0.196128\n",
      "dtype: float32\n",
      "arma 0.0\n",
      "cigarro        0.164970\n",
      "narguile       0.173672\n",
      "fumar          0.174711\n",
      "tragar         0.175073\n",
      "tabaco         0.150885\n",
      "nicotina       0.153432\n",
      "vaporizador    0.153965\n",
      "preço          0.176054\n",
      "comprar        0.196128\n",
      "dtype: float32\n",
      "cigarro 0.0\n",
      "sexo          0.154838\n",
      "prostituta    0.171297\n",
      "fetiche       0.149536\n",
      "cache         0.168723\n",
      "dtype: float32\n",
      "prottituição 0.0\n",
      "dosagem       0.157164\n",
      "substancia    0.152181\n",
      "remedio       0.154409\n",
      "aborto        0.164154\n",
      "comprimido    0.169128\n",
      "comprar       0.196128\n",
      "preço         0.176054\n",
      "dtype: float32\n",
      "remedios proibidos 0.0\n"
     ]
    },
    {
     "data": {
      "text/plain": [
       "{'arma': False,\n",
       " 'cigarro': False,\n",
       " 'prottituição': False,\n",
       " 'remedios proibidos': False}"
      ]
     },
     "execution_count": 116,
     "metadata": {},
     "output_type": "execute_result"
    }
   ],
   "source": [
    "cls.classify(\"https://www.oskaras.com/cytotec/\", kws, labels)"
   ]
  },
  {
   "cell_type": "code",
   "execution_count": null,
   "metadata": {},
   "outputs": [],
   "source": []
  },
  {
   "cell_type": "code",
   "execution_count": 101,
   "metadata": {
    "ExecuteTime": {
     "end_time": "2018-11-02T20:09:41.932481Z",
     "start_time": "2018-11-02T20:09:41.108107Z"
    }
   },
   "outputs": [
    {
     "name": "stderr",
     "output_type": "stream",
     "text": [
      "/home/luke/anaconda3/envs/text-rec/lib/python3.6/site-packages/ipykernel/__main__.py:31: DeprecationWarning: Call to deprecated `wv` (Attribute will be removed in 4.0.0, use self instead).\n"
     ]
    },
    {
     "ename": "IndexError",
     "evalue": "string index out of range",
     "output_type": "error",
     "traceback": [
      "\u001b[0;31m---------------------------------------------------------------------------\u001b[0m",
      "\u001b[0;31mIndexError\u001b[0m                                Traceback (most recent call last)",
      "\u001b[0;32m<ipython-input-101-a9fff9abc7ae>\u001b[0m in \u001b[0;36m<module>\u001b[0;34m()\u001b[0m\n\u001b[0;32m----> 1\u001b[0;31m \u001b[0mcls\u001b[0m\u001b[0;34m.\u001b[0m\u001b[0mclassify\u001b[0m\u001b[0;34m(\u001b[0m\u001b[0;34m\"https://www.brasiltatica.com.br/\"\u001b[0m\u001b[0;34m,\u001b[0m \u001b[0mkws\u001b[0m\u001b[0;34m,\u001b[0m \u001b[0mlabels\u001b[0m\u001b[0;34m)\u001b[0m\u001b[0;34m\u001b[0m\u001b[0m\n\u001b[0m",
      "\u001b[0;32m<ipython-input-83-c8e1f7156d3f>\u001b[0m in \u001b[0;36mclassify\u001b[0;34m(self, url, kws, labels, dist_thresh, kws_thresh)\u001b[0m\n\u001b[1;32m     33\u001b[0m     \u001b[0;32mdef\u001b[0m \u001b[0mclassify\u001b[0m\u001b[0;34m(\u001b[0m\u001b[0mself\u001b[0m\u001b[0;34m,\u001b[0m \u001b[0murl\u001b[0m\u001b[0;34m,\u001b[0m \u001b[0mkws\u001b[0m\u001b[0;34m,\u001b[0m \u001b[0mlabels\u001b[0m\u001b[0;34m,\u001b[0m \u001b[0mdist_thresh\u001b[0m\u001b[0;34m=\u001b[0m\u001b[0;36m0.20\u001b[0m\u001b[0;34m,\u001b[0m \u001b[0mkws_thresh\u001b[0m\u001b[0;34m=\u001b[0m\u001b[0;36m0.5\u001b[0m\u001b[0;34m)\u001b[0m\u001b[0;34m:\u001b[0m\u001b[0;34m\u001b[0m\u001b[0m\n\u001b[1;32m     34\u001b[0m         \u001b[0mkws\u001b[0m \u001b[0;34m=\u001b[0m \u001b[0mself\u001b[0m\u001b[0;34m.\u001b[0m\u001b[0mrm_unseen\u001b[0m\u001b[0;34m(\u001b[0m\u001b[0mkws\u001b[0m\u001b[0;34m)\u001b[0m\u001b[0;34m\u001b[0m\u001b[0m\n\u001b[0;32m---> 35\u001b[0;31m         \u001b[0mwords\u001b[0m \u001b[0;34m=\u001b[0m \u001b[0mself\u001b[0m\u001b[0;34m.\u001b[0m\u001b[0mparser\u001b[0m\u001b[0;34m.\u001b[0m\u001b[0mparse\u001b[0m\u001b[0;34m(\u001b[0m\u001b[0murl\u001b[0m\u001b[0;34m)\u001b[0m\u001b[0;34m\u001b[0m\u001b[0m\n\u001b[0m\u001b[1;32m     36\u001b[0m         \u001b[0mwords\u001b[0m \u001b[0;34m=\u001b[0m \u001b[0mself\u001b[0m\u001b[0;34m.\u001b[0m\u001b[0mrm_unseen\u001b[0m\u001b[0;34m(\u001b[0m\u001b[0mwords\u001b[0m\u001b[0;34m)\u001b[0m\u001b[0;34m\u001b[0m\u001b[0m\n\u001b[1;32m     37\u001b[0m         \u001b[0;32mfor\u001b[0m \u001b[0mlabel\u001b[0m \u001b[0;32min\u001b[0m \u001b[0mlabels\u001b[0m\u001b[0;34m:\u001b[0m\u001b[0;34m\u001b[0m\u001b[0m\n",
      "\u001b[0;32m~/Documents/code/Python/materias/Mac5853/parser.py\u001b[0m in \u001b[0;36mparse\u001b[0;34m(self, url)\u001b[0m\n\u001b[1;32m    114\u001b[0m \u001b[0;34m\u001b[0m\u001b[0m\n\u001b[1;32m    115\u001b[0m     \u001b[0;32mdef\u001b[0m \u001b[0mparse\u001b[0m\u001b[0;34m(\u001b[0m\u001b[0mself\u001b[0m\u001b[0;34m,\u001b[0m \u001b[0murl\u001b[0m\u001b[0;34m)\u001b[0m\u001b[0;34m:\u001b[0m\u001b[0;34m\u001b[0m\u001b[0m\n\u001b[0;32m--> 116\u001b[0;31m         \u001b[0mtext\u001b[0m \u001b[0;34m=\u001b[0m \u001b[0;34m[\u001b[0m\u001b[0mself\u001b[0m\u001b[0;34m.\u001b[0m\u001b[0mtext_from_web\u001b[0m\u001b[0;34m(\u001b[0m\u001b[0murl\u001b[0m\u001b[0;34m)\u001b[0m\u001b[0;34m]\u001b[0m \u001b[0;34m+\u001b[0m \u001b[0;34m[\u001b[0m\u001b[0mself\u001b[0m\u001b[0;34m.\u001b[0m\u001b[0mtext_from_web\u001b[0m\u001b[0;34m(\u001b[0m\u001b[0mlink\u001b[0m\u001b[0;34m)\u001b[0m \u001b[0;32mfor\u001b[0m \u001b[0mlink\u001b[0m \u001b[0;32min\u001b[0m \u001b[0mself\u001b[0m\u001b[0;34m.\u001b[0m\u001b[0mcrawler\u001b[0m\u001b[0;34m(\u001b[0m\u001b[0murl\u001b[0m\u001b[0;34m)\u001b[0m\u001b[0;34m]\u001b[0m\u001b[0;34m\u001b[0m\u001b[0m\n\u001b[0m\u001b[1;32m    117\u001b[0m         \u001b[0mtext\u001b[0m \u001b[0;34m=\u001b[0m \u001b[0msum\u001b[0m\u001b[0;34m(\u001b[0m\u001b[0;34m[\u001b[0m\u001b[0msentences\u001b[0m\u001b[0;34m.\u001b[0m\u001b[0msplit\u001b[0m\u001b[0;34m(\u001b[0m\u001b[0;34m'\\n'\u001b[0m\u001b[0;34m)\u001b[0m \u001b[0;32mfor\u001b[0m \u001b[0msentences\u001b[0m \u001b[0;32min\u001b[0m \u001b[0mtext\u001b[0m\u001b[0;34m]\u001b[0m\u001b[0;34m,\u001b[0m \u001b[0;34m[\u001b[0m\u001b[0;34m]\u001b[0m\u001b[0;34m)\u001b[0m\u001b[0;34m\u001b[0m\u001b[0m\n\u001b[1;32m    118\u001b[0m \u001b[0;34m\u001b[0m\u001b[0m\n",
      "\u001b[0;32m~/Documents/code/Python/materias/Mac5853/parser.py\u001b[0m in \u001b[0;36mcrawler\u001b[0;34m(self, url, limit)\u001b[0m\n\u001b[1;32m    100\u001b[0m         \u001b[0;32mfor\u001b[0m \u001b[0mi\u001b[0m\u001b[0;34m,\u001b[0m \u001b[0mlink\u001b[0m \u001b[0;32min\u001b[0m \u001b[0menumerate\u001b[0m\u001b[0;34m(\u001b[0m\u001b[0mpossible_links\u001b[0m\u001b[0;34m)\u001b[0m\u001b[0;34m:\u001b[0m\u001b[0;34m\u001b[0m\u001b[0m\n\u001b[1;32m    101\u001b[0m             \u001b[0mlink_url\u001b[0m \u001b[0;34m=\u001b[0m \u001b[0mlink\u001b[0m\u001b[0;34m.\u001b[0m\u001b[0mget\u001b[0m\u001b[0;34m(\u001b[0m\u001b[0;34m'href'\u001b[0m\u001b[0;34m)\u001b[0m\u001b[0;34m\u001b[0m\u001b[0m\n\u001b[0;32m--> 102\u001b[0;31m             \u001b[0;32mif\u001b[0m \u001b[0mlink_url\u001b[0m\u001b[0;34m[\u001b[0m\u001b[0;36m0\u001b[0m\u001b[0;34m]\u001b[0m \u001b[0;34m==\u001b[0m \u001b[0;34m'/'\u001b[0m\u001b[0;34m:\u001b[0m\u001b[0;34m\u001b[0m\u001b[0m\n\u001b[0m\u001b[1;32m    103\u001b[0m                 \u001b[0mlinks\u001b[0m \u001b[0;34m+=\u001b[0m \u001b[0;34m[\u001b[0m\u001b[0murl\u001b[0m\u001b[0;34m[\u001b[0m\u001b[0;34m:\u001b[0m\u001b[0;34m-\u001b[0m\u001b[0;36m1\u001b[0m\u001b[0;34m]\u001b[0m \u001b[0;34m+\u001b[0m \u001b[0mlink_url\u001b[0m\u001b[0;34m]\u001b[0m\u001b[0;34m\u001b[0m\u001b[0m\n\u001b[1;32m    104\u001b[0m             \u001b[0;32melif\u001b[0m \u001b[0;34m'https'\u001b[0m \u001b[0;32min\u001b[0m \u001b[0mlink_url\u001b[0m\u001b[0;34m:\u001b[0m\u001b[0;34m\u001b[0m\u001b[0m\n",
      "\u001b[0;31mIndexError\u001b[0m: string index out of range"
     ]
    }
   ],
   "source": [
    "cls.classify(\"https://www.brasiltatica.com.br/\", kws, labels)"
   ]
  }
 ],
 "metadata": {
  "kernelspec": {
   "display_name": "Python [conda env:text-rec]",
   "language": "python",
   "name": "conda-env-text-rec-py"
  },
  "language_info": {
   "codemirror_mode": {
    "name": "ipython",
    "version": 3
   },
   "file_extension": ".py",
   "mimetype": "text/x-python",
   "name": "python",
   "nbconvert_exporter": "python",
   "pygments_lexer": "ipython3",
   "version": "3.6.5"
  },
  "toc": {
   "base_numbering": 1,
   "nav_menu": {},
   "number_sections": true,
   "sideBar": true,
   "skip_h1_title": false,
   "title_cell": "Table of Contents",
   "title_sidebar": "Contents",
   "toc_cell": false,
   "toc_position": {},
   "toc_section_display": true,
   "toc_window_display": false
  }
 },
 "nbformat": 4,
 "nbformat_minor": 2
}
